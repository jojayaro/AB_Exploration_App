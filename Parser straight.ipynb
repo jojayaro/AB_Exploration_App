{
 "cells": [
  {
   "cell_type": "code",
   "execution_count": null,
   "metadata": {},
   "outputs": [],
   "source": [
    "import re\n",
    "import pandas as pd\n",
    "import numpy as np"
   ]
  },
  {
   "cell_type": "code",
   "execution_count": null,
   "metadata": {},
   "outputs": [],
   "source": [
    "file ='Data/ST96/New Folder/31386.TXT'\n",
    "lines = []\n",
    "\n",
    "with open(file, 'r') as file:\n",
    "    for line in file:\n",
    "        lines.append(line.rstrip('\\n'))\n",
    "\n",
    "lines"
   ]
  },
  {
   "cell_type": "code",
   "execution_count": null,
   "metadata": {},
   "outputs": [],
   "source": [
    "    #Extract Date\n",
    "    Date = (re.split('[\\s]{4,}', lines[1].strip()))\n",
    "    Date = Date[0]\n",
    "    Date = Date.replace('RUN DATE:  ', '')\n",
    "    Date"
   ]
  },
  {
   "cell_type": "code",
   "execution_count": null,
   "metadata": {},
   "outputs": [],
   "source": [
    "    #Extract indices to cut list\n",
    "    indices = [i for i, s in enumerate(lines) if '------' in s]\n",
    "    indicest = [i for i, s in enumerate(lines) if 'NOTE:' in s]"
   ]
  },
  {
   "cell_type": "code",
   "execution_count": null,
   "metadata": {},
   "outputs": [],
   "source": [
    "    #Create list with only well licenses\n",
    "    df1 = lines[(indices[0]+1):(indicest[0]-1)]\n",
    "    df1"
   ]
  },
  {
   "cell_type": "code",
   "execution_count": null,
   "metadata": {},
   "outputs": [],
   "source": [
    "    #Create indexes to slice\n",
    "    df3 = []\n",
    "    for line in df1:\n",
    "        df3.extend(re.split('[\\s]{2,}', line.strip()))\n",
    "    \n",
    "    df3"
   ]
  },
  {
   "cell_type": "code",
   "execution_count": null,
   "metadata": {},
   "outputs": [],
   "source": [
    "    #Create list without blank items\n",
    "    df3 = [x for x in df3 if x != '']\n",
    "    df3"
   ]
  },
  {
   "cell_type": "code",
   "execution_count": null,
   "metadata": {},
   "outputs": [],
   "source": [
    "    #Create lists for all 7 elements in the table\n",
    "    df3 = [df3[x:x+7] for x in range(0, len(df3), 7)]\n",
    "    df3"
   ]
  },
  {
   "cell_type": "code",
   "execution_count": null,
   "metadata": {},
   "outputs": [],
   "source": []
  },
  {
   "cell_type": "code",
   "execution_count": null,
   "metadata": {},
   "outputs": [],
   "source": []
  },
  {
   "cell_type": "code",
   "execution_count": null,
   "metadata": {},
   "outputs": [],
   "source": [
    "    #create a dataframe out of the list\n",
    "    if df3 != []:\n",
    "        data1 = pd.DataFrame(df3)\n",
    "        data1.set_axis(['LICENCE NUMBER', 'PERMITTEE', 'SUBT CODE', 'PIPELINE FROM LOC', 'O.D. (MAX)', 'APPROVAL DATE', 'OPERATING KM'], axis = 1, inplace=True)\n",
    "        data1['DATE'] = Date\n",
    "\n",
    "        subt = pd.read_csv('SUBT.csv')\n",
    "        dfm = pd.merge(data1, subt, how='left', left_on='SUBT CODE', right_on='SUBT CODE')\n",
    "        \n",
    "    dfm"
   ]
  },
  {
   "cell_type": "code",
   "execution_count": null,
   "metadata": {},
   "outputs": [],
   "source": [
    "#Extract Date\n",
    "Date = (re.split('[\\s]{4,}', lines[1].strip()))\n",
    "Date = Date[0]\n",
    "Date = Date.replace('RUN DATE:  ', '')\n",
    "Date"
   ]
  },
  {
   "cell_type": "code",
   "execution_count": null,
   "metadata": {},
   "outputs": [],
   "source": [
    "#Extract indices to cut list\n",
    "indices = [i for i, s in enumerate(lines) if '------' in s]\n",
    "indicest = [i for i, s in enumerate(lines) if 'NOTE:' in s]"
   ]
  },
  {
   "cell_type": "code",
   "execution_count": null,
   "metadata": {},
   "outputs": [],
   "source": [
    "indicest"
   ]
  },
  {
   "cell_type": "code",
   "execution_count": null,
   "metadata": {},
   "outputs": [],
   "source": [
    "#Create list with only well licenses\n",
    "df1 = lines[(indices[0]+1):(indicest[0]-1)]\n",
    "df1"
   ]
  },
  {
   "cell_type": "code",
   "execution_count": null,
   "metadata": {},
   "outputs": [],
   "source": [
    "df3 = []\n",
    "for line in df1:\n",
    "    df3.extend(re.split('[\\s]{3,}', line.strip()))"
   ]
  },
  {
   "cell_type": "code",
   "execution_count": null,
   "metadata": {},
   "outputs": [],
   "source": [
    "df3 = [x for x in df3 if x != '']\n",
    "df3"
   ]
  },
  {
   "cell_type": "code",
   "execution_count": null,
   "metadata": {},
   "outputs": [],
   "source": [
    "df3 = [df3[x:x+7] for x in range(0, len(df3), 7)]\n",
    "df3"
   ]
  },
  {
   "cell_type": "code",
   "execution_count": null,
   "metadata": {},
   "outputs": [],
   "source": [
    "data1 = pd.DataFrame(df3)\n",
    "data1.set_axis(['LICENCE NUMBER', 'PERMITTEE', 'SUBT CODE', 'PIPELINE FROM LOC', 'O.D. (MAX)', 'APPROVAL DATE', 'OPERATING KM'], axis = 1, inplace=True)\n",
    "data1['DATE'] = Date\n",
    "data1"
   ]
  },
  {
   "cell_type": "code",
   "execution_count": null,
   "metadata": {},
   "outputs": [],
   "source": []
  },
  {
   "cell_type": "code",
   "execution_count": null,
   "metadata": {},
   "outputs": [],
   "source": []
  },
  {
   "cell_type": "code",
   "execution_count": null,
   "metadata": {},
   "outputs": [],
   "source": []
  },
  {
   "cell_type": "code",
   "execution_count": null,
   "metadata": {},
   "outputs": [],
   "source": [
    "dfsplit = lines[indices[0]]\n",
    "\n",
    "def find(s, ch):\n",
    "    return [i for i, ltr in enumerate(s) if ltr == ch]\n",
    "\n",
    "cut = find(dfsplit,' ')\n",
    "cut"
   ]
  },
  {
   "cell_type": "code",
   "execution_count": null,
   "metadata": {},
   "outputs": [],
   "source": [
    "df2 = []\n",
    "for line in df1:\n",
    "    df2.append(line[0:cut[0]])\n",
    "    df2.append(line[cut[0]:cut[1]])\n",
    "    df2.append(line[cut[1]:cut[2]])\n",
    "    df2.append(line[cut[2]:cut[3]])\n",
    "    df2.append(line[cut[3]:cut[4]])\n",
    "    df2.append(line[cut[4]:cut[5]])\n",
    "    df2.append(line[cut[5]:cut[6]])\n",
    "    df2.append(line[cut[6]:cut[7]])\n",
    "    df2.append(line[cut[7]:cut[8]])\n",
    "    df2.append(line[cut[8]:cut[9]])\n",
    "    df2.append(line[cut[9]:cut[10]])\n",
    "    df2.append(line[cut[10]:])\n",
    "\n",
    "df2"
   ]
  },
  {
   "cell_type": "code",
   "execution_count": null,
   "metadata": {},
   "outputs": [],
   "source": [
    "#Create a list without all spaces\n",
    "df3 = []\n",
    "for line in df2:\n",
    "    df3.extend(re.split('[\\s]{5,}', line.strip()))\n",
    "\n",
    "df3"
   ]
  },
  {
   "cell_type": "code",
   "execution_count": null,
   "metadata": {},
   "outputs": [],
   "source": [
    "df3 = [df3[x:x+12] for x in range(0, len(df3), 12)]\n",
    "df3"
   ]
  },
  {
   "cell_type": "code",
   "execution_count": null,
   "metadata": {},
   "outputs": [],
   "source": [
    "#create a dataframe out of the list\n",
    "if df3 != []:\n",
    "    data1 = pd.DataFrame(df3)\n",
    "    data1.set_axis(['WELL ID', 'WELL NAME', 'LICENCE', 'CONTRACTOR BA ID', 'CONTRACTOR NAME', 'RIG NUMBER', 'ACTIVITY DATE', 'FIELD CENTRE', 'BA ID', 'LICENSEE', 'NEW PROJECTED TOTAL DEPTH','ACTIVITY TYPE'], axis = 1, inplace=True)\n",
    "    data1['DATE'] = Date\n",
    "    \n",
    "data1\n",
    "\n",
    ""
   ]
  },
  {
   "cell_type": "code",
   "execution_count": null,
   "metadata": {},
   "outputs": [],
   "source": [
    "data1['ATS'] = data1['WELL ID'].str.replace(r'[^0-9]+', '')\n",
    "data1['ATS'] = data1['ATS'].str[-9:-1]\n",
    "data1['ATS'] = data1['ATS'].astype('int64')\n",
    "data1"
   ]
  },
  {
   "cell_type": "code",
   "execution_count": null,
   "metadata": {},
   "outputs": [],
   "source": [
    "convcomp = pd.read_csv('ConvComp.csv')\n",
    "convcomp['ConvDF'] = convcomp['ConvDF'].astype('int64')\n",
    "dfm = pd.merge(data1, convcomp, how='left', left_on='ATS', right_on='ConvDF')"
   ]
  },
  {
   "cell_type": "code",
   "execution_count": null,
   "metadata": {},
   "outputs": [],
   "source": [
    "dfm"
   ]
  },
  {
   "cell_type": "markdown",
   "metadata": {},
   "source": [
    "dataframe = pd.read_csv('dataframe.csv')\n",
    "dataframe"
   ]
  },
  {
   "cell_type": "markdown",
   "metadata": {},
   "source": [
    "dftotal = pd.merge(dfm, dataframe, how='left', left_on='LICENCE', right_on='LICENCE NUMBER')\n",
    "dftotal"
   ]
  },
  {
   "cell_type": "code",
   "execution_count": null,
   "metadata": {},
   "outputs": [],
   "source": []
  },
  {
   "cell_type": "code",
   "execution_count": null,
   "metadata": {},
   "outputs": [],
   "source": [
    "import os\n",
    "import shutil\n",
    "\n",
    "for root, dirs, files in os.walk('/home/sidefxs/ST96/'):  # replace the . with your starting directory\n",
    "   for file in files:\n",
    "      path_file = os.path.join(root,file)\n",
    "      shutil.copy2(path_file,'/home/sidefxs/Documents/ST96/') # change you destination dir"
   ]
  },
  {
   "cell_type": "code",
   "execution_count": null,
   "metadata": {},
   "outputs": [],
   "source": [
    "import os\n",
    "import shutil\n",
    "\n",
    "def resolve_path(filename, destination_dir):\n",
    "    dest = os.path.join(destination_dir, filename)\n",
    "    *base_parts, extension = filename.split('.')\n",
    "    base_name = '.'.join(base_parts)\n",
    "    duplicate_num = 1\n",
    "    while os.path.exists(dest):\n",
    "        new_base = base_name + str(duplicate_num).zfill(5)\n",
    "        new_filename = \"{}.{}\".format(new_base, extension)\n",
    "        dest = os.path.join(destination_dir, new_filename)\n",
    "        duplicate_num += 1\n",
    "    return dest"
   ]
  },
  {
   "cell_type": "code",
   "execution_count": null,
   "metadata": {},
   "outputs": [],
   "source": [
    "resolve_path"
   ]
  },
  {
   "cell_type": "code",
   "execution_count": null,
   "metadata": {},
   "outputs": [],
   "source": []
  }
 ],
 "metadata": {
  "kernelspec": {
   "display_name": "Python 3",
   "language": "python",
   "name": "python3"
  },
  "language_info": {
   "codemirror_mode": {
    "name": "ipython",
    "version": 3
   },
   "file_extension": ".py",
   "mimetype": "text/x-python",
   "name": "python",
   "nbconvert_exporter": "python",
   "pygments_lexer": "ipython3",
   "version": "3.7.6-final"
  }
 },
 "nbformat": 4,
 "nbformat_minor": 4
}