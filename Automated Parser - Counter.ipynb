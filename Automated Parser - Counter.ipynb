{
 "cells": [
  {
   "cell_type": "code",
   "execution_count": 6,
   "metadata": {},
   "outputs": [],
   "source": [
    "from datetime import date, timedelta\n",
    "import urllib.request\n",
    "import pandas as pd\n",
    "import requests\n"
   ]
  },
  {
   "cell_type": "code",
   "execution_count": null,
   "metadata": {},
   "outputs": [],
   "source": [
    "today = date.today() - timedelta(days=381)\n",
    "today"
   ]
  },
  {
   "cell_type": "code",
   "execution_count": null,
   "metadata": {},
   "outputs": [],
   "source": [
    "d49 = today.strftime(\"SPUD%m%d.txt\")\n",
    "url49 = 'https://static.aer.ca/prd/data/wells/' + d49\n",
    "url49"
   ]
  },
  {
   "cell_type": "code",
   "execution_count": null,
   "metadata": {},
   "outputs": [],
   "source": [
    "n = 108\n",
    "\n",
    "for i in range(1,n+1):\n",
    "    today = date.today() - timedelta(days=i)\n",
    "    d1 = today.strftime(\"WELLS%m%d.TXT\")\n",
    "    url1 = 'https://static.aer.ca/prd/data/well-lic/' + d1\n",
    "    urllib.request.urlretrieve(url1, 'ST1/'+d1)\n"
   ]
  },
  {
   "cell_type": "code",
   "execution_count": null,
   "metadata": {},
   "outputs": [],
   "source": [
    "n = 108\n",
    "\n",
    "for i in range(1,n+1):\n",
    "    today = date.today() - timedelta(days=i)\n",
    "    d49 = today.strftime(\"SPUD%m%d.txt\")\n",
    "    url49 = 'https://static.aer.ca/prd/data/wells/' + d49\n",
    "    urllib.request.urlretrieve(url49, 'ST49/'+d49)"
   ]
  },
  {
   "cell_type": "code",
   "execution_count": null,
   "metadata": {},
   "outputs": [],
   "source": [
    "url = 'https://www.facebook.com/favicon.ico'\n",
    "r = requests.get(url, allow_redirects=True)\n",
    "open('facebook.ico', 'wb').write(r.content)\n"
   ]
  },
  {
   "cell_type": "code",
   "execution_count": 7,
   "metadata": {},
   "outputs": [],
   "source": [
    "n = 108\n",
    "\n",
    "for i in range(1,n+1):\n",
    "    today = date.today() - timedelta(days=i)\n",
    "    d49 = today.strftime(\"SPUD%m%d.txt\")\n",
    "    url49 = 'https://static.aer.ca/prd/data/wells/' + d49\n",
    "    r = requests.get(url49, allow_redirects=True)\n",
    "    open(d49, 'wb').write(r.content)"
   ]
  },
  {
   "cell_type": "code",
   "execution_count": null,
   "metadata": {},
   "outputs": [],
   "source": []
  }
 ],
 "metadata": {
  "language_info": {
   "name": "python",
   "codemirror_mode": {
    "name": "ipython",
    "version": 3
   },
   "version": "3.8.5-final"
  },
  "orig_nbformat": 2,
  "file_extension": ".py",
  "mimetype": "text/x-python",
  "name": "python",
  "npconvert_exporter": "python",
  "pygments_lexer": "ipython3",
  "version": 3,
  "kernelspec": {
   "name": "python3",
   "display_name": "Python 3",
   "language": "python"
  }
 },
 "nbformat": 4,
 "nbformat_minor": 2
}