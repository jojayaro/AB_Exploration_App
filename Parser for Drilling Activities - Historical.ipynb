{
 "cells": [
  {
   "cell_type": "code",
   "execution_count": 1,
   "metadata": {},
   "outputs": [],
   "source": [
    "import re\n",
    "import pandas as pd\n",
    "import numpy as np\n",
    "import datetime"
   ]
  },
  {
   "cell_type": "code",
   "execution_count": 2,
   "metadata": {},
   "outputs": [],
   "source": [
    "def parser(file):\n",
    "\n",
    "    lines = []\n",
    "\n",
    "    with open(file, 'r') as file:\n",
    "        for line in file:\n",
    "            lines.append(line.rstrip('\\n'))\n",
    "\n",
    "    #Extract Date\n",
    "    Date = (re.split('[\\s]{4,}', lines[1].strip()))\n",
    "    Date = Date[0]\n",
    "    Date = Date.replace('Run Date: ', '')\n",
    "\n",
    "    #Extract indices to cut list\n",
    "    indices = [i for i, s in enumerate(lines) if '------' in s]\n",
    "    indicest = [i for i, s in enumerate(lines) if 'TOTAL  -' in s]\n",
    "\n",
    "    #Create list with only well licenses\n",
    "    df1 = lines[(indices[1]+1):(indicest[0]-1)]\n",
    "\n",
    "    dfsplit = lines[indices[1]]\n",
    "\n",
    "    def find(s, ch):\n",
    "        return [i for i, ltr in enumerate(s) if ltr == ch]\n",
    "\n",
    "    cut = find(dfsplit,' ')\n",
    "\n",
    "    df2 = []\n",
    "    for line in df1:\n",
    "        df2.append(line[0:cut[0]])\n",
    "        df2.append(line[cut[0]:cut[1]])\n",
    "        df2.append(line[cut[1]:cut[2]])\n",
    "        df2.append(line[cut[2]:cut[3]])\n",
    "        df2.append(line[cut[3]:cut[4]])\n",
    "        df2.append(line[cut[4]:cut[5]])\n",
    "        df2.append(line[cut[5]:cut[6]])\n",
    "        df2.append(line[cut[6]:cut[7]])\n",
    "        df2.append(line[cut[7]:cut[8]])\n",
    "        df2.append(line[cut[8]:cut[9]])\n",
    "        df2.append(line[cut[9]:cut[10]])\n",
    "        df2.append(line[cut[10]:])\n",
    "\n",
    "    #Create a list without all spaces\n",
    "    df3 = []\n",
    "    for line in df2:\n",
    "        df3.extend(re.split('[\\s]{5,}', line.strip()))\n",
    "\n",
    "    df3 = [df3[x:x+12] for x in range(0, len(df3), 12)]\n",
    "\n",
    "    #create a dataframe out of the list\n",
    "    if df3 != []:\n",
    "        data1 = pd.DataFrame(df3)\n",
    "        data1.set_axis(['WELL ID', 'WELL NAME', 'LICENCE', 'CONTRACTOR BA ID', 'CONTRACTOR NAME', 'RIG NUMBER', 'ACTIVITY DATE', 'FIELD CENTRE', 'BA ID', 'LICENSEE', 'NEW PROJECTED TOTAL DEPTH', 'ACTIVITY TYPE'], axis = 1, inplace=True)\n",
    "        data1['DATE'] = Date\n",
    "\n",
    "        data1['ATS'] = data1['WELL ID'].str.replace(r'[^0-9]+', '')\n",
    "        data1['ATS'] = data1['ATS'].str[-9:-1]\n",
    "        data1['ATS'] = data1['ATS'].astype('int64')\n",
    "        \n",
    "        data1['DATE'] = data1['DATE'].astype('datetime64')\n",
    "        data1['WEEK'] = data1['DATE'].dt.week\n",
    "        data1['MONTH'] = data1['DATE'].dt.month\n",
    "        data1['YEAR'] = data1['DATE'].dt.year\n",
    "\n",
    "        convcomp = pd.read_csv('ConvComp.csv')\n",
    "        convcomp['ConvDF'] = convcomp['ConvDF'].astype('int64')\n",
    "        dfm = pd.merge(data1, convcomp, how='left', left_on='ATS', right_on='ConvDF')\n",
    "\n",
    "    return dfm"
   ]
  },
  {
   "cell_type": "code",
   "execution_count": 3,
   "metadata": {
    "tags": [
     "outputPrepend"
    ]
   },
   "outputs": [
    {
     "output_type": "stream",
     "name": "stdout",
     "text": "516.txt\n25165.txt\n29767.txt\n2875.txt\n28395.txt\n7312.txt\n9286.txt\n12936.txt\n19201.txt\n13946.txt\n30115.txt\n6405.txt\n4497.txt\n9701.txt\n20090.txt\n20943.txt\n15009.txt\n14391.txt\n6964.txt\n21516.txt\n30370.txt\n16643.txt\n24237.txt\n23095.txt\n18440.txt\n28585.txt\n12825.txt\n16242.txt\n2063.txt\n13387.txt\n16427.txt\n5537.txt\n27786.txt\n26032.txt\n13218.txt\n13588.txt\n1322.txt\n12752.txt\n14447.txt\n3193.txt\n13766.txt\n4463.txt\n17106.txt\n220.txt\n10452.txt\n6860.txt\n16329.txt\n11669.txt\n9785.txt\n6491.txt\n6939.txt\n12125.txt\n4395.txt\n7551.txt\n11757.txt\n3569.txt\n25337.txt\n17917.txt\n18560.txt\n14222.txt\n1439.txt\n9387.txt\n17171.txt\n1399.txt\n15821.txt\n20071.txt\n28417.txt\n7809.txt\n31824.txt\n31177.txt\n29223.txt\n9279.txt\n435.txt\n31719.txt\n16950.txt\n22038.txt\n6363.txt\n16520.txt\n21199.txt\n5801.txt\n19864.txt\n30119.txt\n16606.txt\n20851.txt\n12468.txt\n12879.txt\n5365.txt\n28392.txt\n5509.txt\n8885.txt\n25784.txt\n31200.txt\n17207.txt\n32177.txt\n15486.txt\n21875.txt\n29235.txt\n11644.txt\n25852.txt\n7104.txt\n22640.txt\n23887.txt\nSPUD0712.txt\n22885.txt\n29144.txt\n18121.txt\n15938.txt\n15665.txt\n15603.txt\n1807.txt\n21639.txt\n20853.txt\n13692.txt\n18331.txt\n18635.txt\n28701.txt\n18578.txt\n24307.txt\n28519.txt\n13417.txt\n8538.txt\n6200.txt\n17563.txt\n5956.txt\n26952.txt\n22366.txt\n1720.txt\n4174.txt\n29506.txt\n24798.txt\n14424.txt\n22279.txt\n3108.txt\n7026.txt\n10602.txt\n32403.txt\n12565.txt\n11777.txt\n26569.txt\n21366.txt\n28133.txt\n29499.txt\n20179.txt\n24063.txt\n20341.txt\n16854.txt\n30228.txt\n26757.txt\n25766.txt\n1494.txt\n29013.txt\n4238.txt\n11143.txt\n3690.txt\n1358.txt\n7076.txt\n31798.txt\n479.txt\n9542.txt\n27220.txt\n3792.txt\n17416.txt\n14712.txt\n6110.txt\n24725.txt\n17991.txt\n15957.txt\n302.txt\n7930.txt\n5230.txt\n28555.txt\n26066.txt\n17438.txt\n23403.txt\n7655.txt\n26761.txt\n2775.txt\n19157.txt\n21972.txt\n9556.txt\n32733.txt\n32005.txt\n27613.txt\n18451.txt\n29446.txt\n24609.txt\n27884.txt\n3852.txt\n27179.txt\n28315.txt\n21232.txt\n5193.txt\n17985.txt\n14926.txt\n3498.txt\n29081.txt\n22566.txt\n242.txt\n27795.txt\n14988.txt\n2099.txt\n2108.txt\n13025.txt\n10390.txt\n24981.txt\n23905.txt\n14136.txt\n8532.txt\n9987.txt\n16351.txt\nSPUD0708.txt\n1853.txt\n5281.txt\n25689.txt\n20693.txt\n18143.txt\n22957.txt\n13603.txt\n5217.txt\n18788.txt\n16212.txt\n4157.txt\n7684.txt\n24323.txt\n9626.txt\n22736.txt\n26879.txt\n15356.txt\n26343.txt\n3062.txt\n17302.txt\n3697.txt\n4787.txt\n3833.txt\n20979.txt\n28644.txt\n15003.txt\n10721.txt\n7886.txt\n17787.txt\n1220.txt\n31386.txt\n21953.txt\n11433.txt\n8441.txt\n7096.txt\n13475.txt\n32297.txt\n6365.txt\n11198.txt\n5118.txt\n8773.txt\n9179.txt\n471.txt\n22878.txt\n17906.txt\n15624.txt\n3144.txt\n10489.txt\n21228.txt\n24326.txt\n4388.txt\n11540.txt\n27963.txt\n25549.txt\n780.txt\n24698.txt\n12423.txt\n26965.txt\n16417.txt\n1852.txt\n27716.txt\n14314.txt\n9611.txt\n21950.txt\n30991.txt\n24623.txt\n753.txt\n29431.txt\n11392.txt\n30864.txt\n2652.txt\n141.txt\n22728.txt\n9153.txt\n684.txt\n24811.txt\n23998.txt\n15186.txt\n16027.txt\n591.txt\n7440.txt\n18899.txt\n14098.txt\n27525.txt\n2667.txt\n29348.txt\n14104.txt\n17380.txt\n20995.txt\n9164.txt\n3510.txt\n7416.txt\n9900.txt\n6976.txt\n5396.txt\n6293.txt\n19230.txt\n21004.txt\n31889.txt\n2325.txt\n455.txt\n7819.txt\n5175.txt\n15329.txt\n2128.txt\n30297.txt\n8720.txt\n17867.txt\n11812.txt\n20061.txt\n25948.txt\n5196.txt\n29666.txt\n4466.txt\n18187.txt\n26607.txt\n11827.txt\n14588.txt\n31741.txt\n19192.txt\n30266.txt\n9557.txt\n6496.txt\n198.txt\n17488.txt\n17672.txt\n153.txt\n14652.txt\n15064.txt\n26850.txt\n187.txt\n5714.txt\n13874.txt\n30488.txt\n5325.txt\n18637.txt\n2137.txt\n28907.txt\n6433.txt\n13649.txt\n16391.txt\n1104.txt\n22555.txt\n6693.txt\n2610.txt\n22963.txt\n6597.txt\n7400.txt\n7386.txt\n23270.txt\n7276.txt\n7281.txt\n5565.txt\n18845.txt\n26999.txt\n29241.txt\n9647.txt\n3967.txt\n13402.txt\n6889.txt\n5649.txt\n30054.txt\n22847.txt\n30068.txt\n24903.txt\n15443.txt\n1639.txt\n16297.txt\n7092.txt\n19099.txt\n2832.txt\n29567.txt\n30496.txt\n12971.txt\n22530.txt\n30392.txt\n11290.txt\n10924.txt\n16315.txt\n3238.txt\n11609.txt\n15961.txt\n4349.txt\n31754.txt\n11258.txt\n20002.txt\n19705.txt\n27667.txt\n2711.txt\n8864.txt\n15832.txt\n14472.txt\n26067.txt\n14761.txt\n5255.txt\n31362.txt\n21469.txt\n24592.txt\n17999.txt\n3055.txt\n7654.txt\n22080.txt\n16266.txt\n10808.txt\n19634.txt\n31556.txt\n14352.txt\n12092.txt\n22813.txt\n7622.txt\n3079.txt\n15862.txt\n10070.txt\n16361.txt\n25502.txt\n15818.txt\n26789.txt\n7138.txt\n13827.txt\n16159.txt\n5417.txt\n10658.txt\n46.txt\n4757.txt\n14738.txt\n28697.txt\n32490.txt\n19254.txt\n18237.txt\n12735.txt\n2092.txt\n31934.txt\n28058.txt\n1008.txt\n13049.txt\n6115.txt\n20638.txt\n2521.txt\n31394.txt\n3594.txt\n24643.txt\n7234.txt\n31807.txt\n1366.txt\n8068.txt\n15742.txt\n13756.txt\n6205.txt\n5026.txt\n16956.txt\n27132.txt\n12987.txt\n9210.txt\n18387.txt\n4617.txt\n17382.txt\n29101.txt\n20402.txt\n22061.txt\n26430.txt\n6911.txt\n24927.txt\n8349.txt\n23771.txt\n18138.txt\n26813.txt\n25339.txt\n4503.txt\n18399.txt\n25298.txt\n8250.txt\n24321.txt\n8193.txt\n2928.txt\n27985.txt\n9828.txt\n19928.txt\n14289.txt\n27842.txt\n9203.txt\n23477.txt\n5004.txt\n31377.txt\n32507.txt\n32736.txt\n16902.txt\n20898.txt\n3632.txt\n6210.txt\n9092.txt\nSPUD0710.txt\n11090.txt\n13044.txt\n28884.txt\n17987.txt\n2152.txt\n10381.txt\n20094.txt\n32206.txt\n16807.txt\n3802.txt\n27147.txt\n18072.txt\n6755.txt\n27801.txt\n22985.txt\n20659.txt\n24088.txt\n4110.txt\n19005.txt\n23635.txt\n6922.txt\n31348.txt\n29866.txt\n18755.txt\n24057.txt\n13602.txt\n26306.txt\n11756.txt\n7624.txt\n25171.txt\n17911.txt\n994.txt\n13147.txt\n19858.txt\n27690.txt\n169.txt\n27235.txt\n22854.txt\n9773.txt\n14119.txt\n16367.txt\n18582.txt\n29220.txt\n10263.txt\n27653.txt\n3178.txt\n2067.txt\n3232.txt\n19057.txt\n14632.txt\n15738.txt\n4160.txt\n25048.txt\n25497.txt\n16365.txt\n30891.txt\n11527.txt\n8273.txt\n24938.txt\n13243.txt\n29654.txt\n8728.txt\n14917.txt\n26408.txt\n15065.txt\n9899.txt\n27048.txt\n32377.txt\n9565.txt\n18597.txt\n1744.txt\n31168.txt\n30599.txt\n21514.txt\n2727.txt\n17651.txt\n14700.txt\n21517.txt\n6634.txt\n2676.txt\n17770.txt\n9114.txt\n16946.txt\n29781.txt\n5783.txt\n7106.txt\n3668.txt\n4444.txt\n30982.txt\n29407.txt\n2083.txt\n14794.txt\n13247.txt\n19422.txt\n11034.txt\n24181.txt\n9405.txt\n21350.txt\n21193.txt\n9060.txt\n18910.txt\n28533.txt\n331.txt\n7977.txt\n28876.txt\n10612.txt\n14044.txt\n2295.txt\n2672.txt\n30542.txt\n5615.txt\n20.txt\n16788.txt\n5263.txt\n6837.txt\n6306.txt\n8723.txt\n15353.txt\n8850.txt\n29953.txt\n13638.txt\n23001.txt\n7969.txt\n21699.txt\n27026.txt\n20009.txt\n15496.txt\n15342.txt\n27245.txt\n32609.txt\n27292.txt\n20957.txt\n7177.txt\n3257.txt\n16536.txt\n15051.txt\n27066.txt\n3381.txt\n7678.txt\n18727.txt\n17683.txt\n18464.txt\n26017.txt\n8272.txt\n6090.txt\n5096.txt\n25451.txt\n268.txt\n7929.txt\n31381.txt\n9301.txt\n30446.txt\n13403.txt\n21853.txt\n16886.txt\n2702.txt\n24555.txt\n9835.txt\n25646.txt\n29037.txt\n23418.txt\n20117.txt\n18123.txt\n2177.txt\n25726.txt\n17.txt\n13733.txt\n25434.txt\n12304.txt\n24362.txt\n7248.txt\n28227.txt\n14544.txt\n29137.txt\n14025.txt\n6304.txt\n10613.txt\n12967.txt\n25424.txt\n30756.txt\n9305.txt\n11886.txt\n16473.txt\n13579.txt\n18112.txt\n29440.txt\n27162.txt\n11503.txt\n18972.txt\n3793.txt\n9996.txt\n8997.txt\n18100.txt\n16369.txt\n23088.txt\n13965.txt\n10511.txt\n23772.txt\n7305.txt\n9856.txt\n16879.txt\n25795.txt\n641.txt\n18351.txt\n3080.txt\n22977.txt\n20543.txt\n5962.txt\n10112.txt\n9578.txt\n12098.txt\n30207.txt\n6283.txt\n29842.txt\n28827.txt\n5696.txt\n19832.txt\n29514.txt\n27720.txt\n7322.txt\n2904.txt\n29319.txt\n19775.txt\n23221.txt\n12303.txt\n5103.txt\n3279.txt\n27852.txt\n6916.txt\n21181.txt\n13784.txt\n23721.txt\n23690.txt\n10610.txt\n26498.txt\n18260.txt\n28553.txt\n21747.txt\n2496.txt\n25560.txt\n24331.txt\n18943.txt\n28252.txt\n32437.txt\n4919.txt\n3314.txt\n17301.txt\n31962.txt\n27467.txt\n9614.txt\n4375.txt\n14667.txt\n17352.txt\n29264.txt\n20438.txt\n939.txt\n23900.txt\n14897.txt\n3146.txt\n31444.txt\n26593.txt\n13144.txt\n26837.txt\n3514.txt\n23805.txt\n31964.txt\n31226.txt\n9625.txt\n9725.txt\n24910.txt\n18045.txt\n5065.txt\n21569.txt\n10646.txt\n9658.txt\n19534.txt\n16593.txt\n25326.txt\n22641.txt\n9470.txt\n10887.txt\n14202.txt\n14155.txt\n13778.txt\n9523.txt\n30743.txt\n4303.txt\n16018.txt\n6530.txt\n13408.txt\n26716.txt\n13233.txt\n10756.txt\n22105.txt\n8637.txt\n7820.txt\n27806.txt\n16364.txt\n31152.txt\n10163.txt\n19121.txt\n11594.txt\n13039.txt\n29535.txt\n27669.txt\n5035.txt\n13943.txt\n30184.txt\n29155.txt\n31155.txt\n21807.txt\n31714.txt\n174.txt\n3636.txt\n22360.txt\n17363.txt\n9579.txt\n24119.txt\n865.txt\n16591.txt\n1392.txt\n21714.txt\n4512.txt\n19085.txt\n28016.txt\n28742.txt\n21970.txt\n26581.txt\n11391.txt\n20468.txt\n6868.txt\n10038.txt\n31073.txt\n6429.txt\n11050.txt\n15263.txt\n16279.txt\n23533.txt\n16155.txt\n5239.txt\nSPUD0703.txt\n27416.txt\n4536.txt\n11323.txt\n23318.txt\n12440.txt\n23085.txt\n1150.txt\n18653.txt\n7255.txt\n19410.txt\n15611.txt\n21725.txt\n28599.txt\n17901.txt\n7506.txt\n31330.txt\n19011.txt\n5634.txt\n15984.txt\n25639.txt\n24440.txt\n26964.txt\n9264.txt\n29295.txt\nSPUD0707.txt\n27971.txt\n7019.txt\n2720.txt\n8634.txt\n2793.txt\n197.txt\n29095.txt\n10229.txt\n24195.txt\n16019.txt\n15741.txt\n24042.txt\n11560.txt\n3879.txt\n6150.txt\n13133.txt\n28311.txt\n12876.txt\n1470.txt\n20129.txt\n9052.txt\n30628.txt\n9333.txt\n13502.txt\n25415.txt\n31349.txt\n7693.txt\n23176.txt\n2435.txt\n21053.txt\n29250.txt\n32660.txt\n23402.txt\n7732.txt\n25207.txt\n18378.txt\n23481.txt\n5349.txt\n4586.txt\n6695.txt\n119.txt\n29672.txt\n17677.txt\n12727.txt\n12547.txt\n29724.txt\n17315.txt\n19782.txt\n30902.txt\n17714.txt\n17304.txt\n28744.txt\n2100.txt\n26835.txt\n32357.txt\n6.txt\n14746.txt\n894.txt\n6681.txt\n17663.txt\n4696.txt\n32664.txt\n2686.txt\n25260.txt\n24607.txt\n28763.txt\n14269.txt\n19234.txt\n6318.txt\n16051.txt\n16795.txt\n3737.txt\n11926.txt\n720.txt\n22184.txt\n18882.txt\n17912.txt\n27502.txt\n21755.txt\n8358.txt\n18705.txt\n8476.txt\n21296.txt\n1396.txt\n27276.txt\n27833.txt\n8251.txt\n27034.txt\n25878.txt\n31678.txt\n28416.txt\n29385.txt\n2736.txt\n15691.txt\n13929.txt\n8062.txt\n12695.txt\n17386.txt\n16992.txt\n21300.txt\n7502.txt\n1014.txt\n25251.txt\n19667.txt\n1059.txt\n12492.txt\n22174.txt\n31115.txt\n19949.txt\n30784.txt\n30838.txt\n17965.txt\n9833.txt\n23708.txt\n17745.txt\n32704.txt\n3553.txt\n4225.txt\n29780.txt\n24442.txt\n16278.txt\n11022.txt\n31295.txt\n27784.txt\n15334.txt\n20958.txt\n8906.txt\n26329.txt\n6472.txt\n11985.txt\n29799.txt\n8249.txt\n28596.txt\n17154.txt\n22351.txt\n18225.txt\n11515.txt\n18951.txt\n24955.txt\n9789.txt\n12667.txt\n11595.txt\n14603.txt\n10797.txt\n9122.txt\n17467.txt\n3984.txt\n3835.txt\n3721.txt\n19576.txt\n24365.txt\n19764.txt\n24420.txt\n8142.txt\n17432.txt\n9995.txt\n28751.txt\n29998.txt\n5769.txt\n24809.txt\n11526.txt\n22703.txt\n15992.txt\n644.txt\n10135.txt\n11839.txt\n30479.txt\n30915.txt\n10818.txt\n9687.txt\n6795.txt\n1129.txt\n3583.txt\n12858.txt\n9778.txt\n1314.txt\n27398.txt\n30212.txt\n31314.txt\n13505.txt\n2774.txt\n26028.txt\n8918.txt\n16115.txt\n8470.txt\n8089.txt\n20185.txt\n26903.txt\n10601.txt\n17397.txt\n20077.txt\n23225.txt\n14516.txt\n3345.txt\n12254.txt\n5240.txt\n31810.txt\n14318.txt\n10823.txt\n11041.txt\n20197.txt\n28443.txt\n5829.txt\n2252.txt\n5161.txt\n32415.txt\n21238.txt\n26982.txt\n5165.txt\n18061.txt\n21753.txt\n29009.txt\n1064.txt\nSPUD0705.txt\n2860.txt\n30220.txt\n10141.txt\n16588.txt\n15283.txt\n3265.txt\n10436.txt\n24687.txt\n27807.txt\n24648.txt\n10114.txt\n16794.txt\n8326.txt\n24858.txt\n28544.txt\n29306.txt\n12668.txt\n9622.txt\n25374.txt\n26797.txt\n24305.txt\n23346.txt\n6000.txt\n17087.txt\n29574.txt\n6990.txt\n18131.txt\n12780.txt\n25770.txt\n14925.txt\n27931.txt\n9635.txt\n3628.txt\n8368.txt\n14497.txt\n12624.txt\n12508.txt\n10549.txt\n13972.txt\n11767.txt\n19081.txt\n20063.txt\n26580.txt\n3592.txt\n14220.txt\n12234.txt\n19247.txt\n23522.txt\n26138.txt\n1827.txt\n24254.txt\n20032.txt\n12991.txt\n449.txt\n5884.txt\n21571.txt\n14402.txt\n27609.txt\n25018.txt\n17408.txt\n19903.txt\n3447.txt\n9681.txt\n28149.txt\n25387.txt\n21049.txt\n5153.txt\n27135.txt\n12723.txt\n14518.txt\n3438.txt\n17647.txt\n27359.txt\n13405.txt\n15689.txt\n18816.txt\n26493.txt\n4367.txt\n28482.txt\n19334.txt\n7075.txt\n15361.txt\n24315.txt\n28537.txt\n29960.txt\n14477.txt\n27388.txt\n3255.txt\n13865.txt\n15652.txt\n1809.txt\n25023.txt\n27221.txt\n9619.txt\n8952.txt\n23073.txt\n24082.txt\n25001.txt\n31653.txt\n7717.txt\n9974.txt\n5190.txt\n13473.txt\n4183.txt\n11241.txt\n18730.txt\n25719.txt\n19881.txt\n18544.txt\n27279.txt\n3472.txt\n27611.txt\n6222.txt\n17620.txt\n21942.txt\n28446.txt\n12276.txt\n10541.txt\n22071.txt\n20426.txt\n16501.txt\n28043.txt\n31233.txt\n14883.txt\n17561.txt\n13178.txt\n25976.txt\n17214.txt\n21308.txt\n14877.txt\n17953.txt\n10050.txt\n16529.txt\n26374.txt\n1757.txt\n18691.txt\n7394.txt\n13744.txt\n29714.txt\n14040.txt\n29491.txt\n9664.txt\n16701.txt\n390.txt\n8377.txt\n21287.txt\n31548.txt\n21687.txt\n10594.txt\n16805.txt\n28910.txt\n14557.txt\n27559.txt\n31206.txt\n18107.txt\n31086.txt\n1069.txt\n25965.txt\n1862.txt\n2722.txt\n466.txt\n28176.txt\n23465.txt\n13509.txt\n8786.txt\n16076.txt\n3410.txt\n19608.txt\n5205.txt\n12391.txt\n29876.txt\n1190.txt\n547.txt\n29398.txt\n8520.txt\n30263.txt\n13118.txt\n18684.txt\n26219.txt\n18749.txt\n12191.txt\n32052.txt\n23775.txt\n25330.txt\n4877.txt\n27827.txt\n10675.txt\n15488.txt\n10111.txt\n14791.txt\n8213.txt\n29259.txt\n13161.txt\n5174.txt\n2164.txt\n27464.txt\n10856.txt\n32754.txt\n28972.txt\n9861.txt\n19063.txt\n13815.txt\n15583.txt\n31800.txt\n27018.txt\n32316.txt\n24735.txt\n11012.txt\n2104.txt\n19073.txt\n2090.txt\n19475.txt\n17359.txt\n8973.txt\n25210.txt\n21259.txt\n11064.txt\n26610.txt\n2908.txt\n17556.txt\n4763.txt\n11628.txt\n20456.txt\n13129.txt\n5454.txt\n4105.txt\n23339.txt\n32571.txt\n3586.txt\n12553.txt\n9215.txt\n31265.txt\n10753.txt\n20357.txt\n18644.txt\n30677.txt\n17118.txt\n12571.txt\n8174.txt\n6288.txt\n15468.txt\n24317.txt\n19430.txt\n25593.txt\n28499.txt\n22592.txt\n733.txt\n18158.txt\n26741.txt\n28523.txt\n18444.txt\n12211.txt\n25129.txt\n16837.txt\n25316.txt\n20082.txt\n21475.txt\n11266.txt\n7917.txt\n1057.txt\n2562.txt\n29723.txt\n25966.txt\n6818.txt\n2971.txt\n12986.txt\n21375.txt\n14829.txt\n31198.txt\n20732.txt\n11695.txt\n15256.txt\n7935.txt\n29039.txt\n10723.txt\n30979.txt\n21572.txt\n32258.txt\n17902.txt\n7545.txt\n22951.txt\n9054.txt\n28578.txt\n8274.txt\n26264.txt\n5083.txt\n6617.txt\n6354.txt\n13269.txt\n15769.txt\n398.txt\n18650.txt\n22699.txt\n12362.txt\n4201.txt\n6687.txt\n14752.txt\n23163.txt\n17786.txt\n22508.txt\n5283.txt\n31010.txt\n8719.txt\n15752.txt\n3693.txt\n6219.txt\n4600.txt\n24273.txt\n12948.txt\n14800.txt\n21923.txt\n31095.txt\n25343.txt\n26620.txt\n26357.txt\n19525.txt\n23066.txt\n9886.txt\n19930.txt\n31463.txt\n32622.txt\n8209.txt\n31474.txt\n27405.txt\n7733.txt\n12617.txt\n18456.txt\n17461.txt\n27834.txt\n32484.txt\n14162.txt\n26027.txt\n16469.txt\n226.txt\n10450.txt\n11016.txt\n29764.txt\n9569.txt\n94.txt\n29778.txt\n28365.txt\n23281.txt\n15849.txt\n3971.txt\n8110.txt\n22207.txt\n24236.txt\n5456.txt\n21647.txt\n25116.txt\n11401.txt\n21234.txt\n25554.txt\n31429.txt\n7589.txt\n15142.txt\n15260.txt\n19479.txt\n28073.txt\n13301.txt\n20613.txt\n10363.txt\n3526.txt\n7800.txt\n92.txt\n20701.txt\n20533.txt\n18916.txt\n12890.txt\n27257.txt\n26420.txt\n31726.txt\n8196.txt\n9621.txt\n29956.txt\n31108.txt\n32073.txt\n19800.txt\n12421.txt\n17133.txt\n1287.txt\n29346.txt\n560.txt\n30881.txt\n7920.txt\n19584.txt\n29826.txt\n24652.txt\n6259.txt\n30703.txt\n25268.txt\n25141.txt\n15855.txt\n8240.txt\n32616.txt\n12322.txt\n16428.txt\n15783.txt\n24820.txt\n7279.txt\n23286.txt\n24073.txt\nSPUD0701.txt\n15541.txt\n30518.txt\n31420.txt\n31493.txt\n21477.txt\n2014.txt\n29029.txt\n22228.txt\n4663.txt\n32338.txt\n18812.txt\n6665.txt\n4582.txt\n6509.txt\n27107.txt\n8625.txt\n32346.txt\n30203.txt\n30044.txt\n25762.txt\n5282.txt\n2224.txt\n23363.txt\n23732.txt\n3253.txt\n24014.txt\n4210.txt\n15768.txt\n30426.txt\n2309.txt\n18140.txt\n24437.txt\n7855.txt\n8782.txt\n25094.txt\n5260.txt\n25662.txt\n24040.txt\n9293.txt\n28611.txt\n18476.txt\n11894.txt\n8059.txt\n23876.txt\n2939.txt\n18840.txt\n3567.txt\n1288.txt\n25715.txt\n24201.txt\n23854.txt\n31409.txt\n12498.txt\n19420.txt\n11610.txt\n1839.txt\n7288.txt\n11302.txt\n25705.txt\n23549.txt\n13609.txt\n13748.txt\n11765.txt\n11691.txt\n17607.txt\n12429.txt\n27268.txt\n9471.txt\n14542.txt\n11069.txt\n21335.txt\n5916.txt\n6214.txt\n29977.txt\n386.txt\n4760.txt\n7251.txt\n26636.txt\n16623.txt\n13532.txt\n11813.txt\n23004.txt\n491.txt\n25242.txt\n11501.txt\n30545.txt\n9043.txt\n2890.txt\n12954.txt\n20528.txt\n4250.txt\n12357.txt\n31680.txt\n18304.txt\n11341.txt\n7791.txt\n29141.txt\n14216.txt\n3837.txt\n3407.txt\n22321.txt\n12998.txt\n24985.txt\n8390.txt\n27417.txt\n10790.txt\n27085.txt\n27490.txt\n20584.txt\n3772.txt\n18430.txt\n2379.txt\n21985.txt\n25168.txt\n26767.txt\n1711.txt\n25219.txt\n23950.txt\n27524.txt\n8818.txt\n28583.txt\n28996.txt\n12846.txt\n16382.txt\n12270.txt\n24989.txt\n2115.txt\n31809.txt\n29563.txt\n13394.txt\n3309.txt\n13501.txt\n8910.txt\n8525.txt\n4824.txt\n14335.txt\n12444.txt\n9216.txt\n28845.txt\n4150.txt\n11992.txt\n13715.txt\n18753.txt\n30331.txt\n30831.txt\n7774.txt\n8560.txt\n10280.txt\n25333.txt\n27825.txt\n4976.txt\n13267.txt\n350.txt\n24610.txt\n20096.txt\n14300.txt\n3609.txt\n29164.txt\n17705.txt\n502.txt\n9464.txt\n12830.txt\n27713.txt\n11638.txt\n9425.txt\n28974.txt\n26356.txt\n31413.txt\n30929.txt\n30133.txt\n31840.txt\n22745.txt\n14732.txt\n2050.txt\n12177.txt\n14569.txt\n10544.txt\n26248.txt\n6612.txt\n18814.txt\n20280.txt\n31878.txt\n1091.txt\n6625.txt\n26692.txt\n13722.txt\n13199.txt\n12108.txt\n30669.txt\n17943.txt\n17046.txt\n1768.txt\n7795.txt\n23215.txt\n11115.txt\n10855.txt\n32302.txt\nSPUD0711.txt\n18132.txt\n3919.txt\n29516.txt\n22808.txt\n4559.txt\n10296.txt\n15407.txt\n28428.txt\n30394.txt\n3885.txt\n29080.txt\n19122.txt\n15096.txt\n9191.txt\n32295.txt\n23932.txt\n24636.txt\n32431.txt\n31140.txt\n4132.txt\n12794.txt\n16576.txt\n25027.txt\n24765.txt\n11330.txt\n7503.txt\n5352.txt\n4576.txt\n28183.txt\n6502.txt\n6451.txt\n3266.txt\n13900.txt\n23422.txt\n25607.txt\n20540.txt\n19498.txt\n2023.txt\n7897.txt\n25314.txt\n9512.txt\n28670.txt\n13575.txt\n32400.txt\n21962.txt\n10225.txt\n27033.txt\n24800.txt\n4802.txt\n28945.txt\n29323.txt\n12107.txt\n23658.txt\n5805.txt\n24217.txt\n15586.txt\n13026.txt\n31590.txt\n14705.txt\n32232.txt\n11781.txt\n19553.txt\n11293.txt\n22718.txt\n1042.txt\n30467.txt\n32348.txt\n17608.txt\n24151.txt\n4499.txt\n19687.txt\n32320.txt\n16769.txt\n30445.txt\n28795.txt\n8394.txt\n18549.txt\n26257.txt\n3209.txt\n25303.txt\n741.txt\n5561.txt\n23926.txt\n16005.txt\n3836.txt\n23567.txt\n31114.txt\n7289.txt\n456.txt\n23053.txt\n18566.txt\n9341.txt\n12218.txt\n3727.txt\n8581.txt\n29823.txt\n15055.txt\n14841.txt\n12923.txt\n13176.txt\n31561.txt\n10109.txt\n1239.txt\n19862.txt\n25301.txt\n21419.txt\n24458.txt\n1966.txt\n5758.txt\n7532.txt\n18192.txt\n21083.txt\n4242.txt\n17448.txt\n6663.txt\n16248.txt\n1054.txt\n31457.txt\n6124.txt\n29605.txt\n16954.txt\n2197.txt\n18981.txt\n23667.txt\n1188.txt\n15985.txt\n12403.txt\n26751.txt\n11219.txt\n13592.txt\n1397.txt\n3094.txt\n17204.txt\n13963.txt\n1289.txt\n30124.txt\n22119.txt\n6677.txt\n4984.txt\n278.txt\n31480.txt\n7675.txt\n28589.txt\n20954.txt\n27517.txt\n13072.txt\n1632.txt\n7902.txt\n27495.txt\n2963.txt\n17252.txt\n11183.txt\n8198.txt\n18465.txt\n17162.txt\n3376.txt\n31676.txt\n6733.txt\n31841.txt\n3796.txt\n521.txt\n4365.txt\n3689.txt\n20784.txt\n28540.txt\n2764.txt\n12759.txt\n8645.txt\n9875.txt\n16830.txt\n10358.txt\n20463.txt\n7273.txt\n17958.txt\n6723.txt\n16835.txt\n27102.txt\n1152.txt\n26867.txt\n10426.txt\n29079.txt\n11174.txt\n26909.txt\n16774.txt\n25358.txt\n15747.txt\n21342.txt\n5337.txt\n27022.txt\n28846.txt\n6865.txt\n13371.txt\n25534.txt\n17823.txt\n7866.txt\n22635.txt\n5191.txt\n1096.txt\n10695.txt\n7367.txt\n11887.txt\n23645.txt\n11621.txt\n2553.txt\n11372.txt\n12070.txt\n25311.txt\n24146.txt\n25012.txt\n1608.txt\n6881.txt\n24751.txt\n11104.txt\n26046.txt\n5869.txt\n12080.txt\n27908.txt\n12022.txt\n15594.txt\n23297.txt\n26201.txt\n19947.txt\n30695.txt\n5453.txt\n14070.txt\n16726.txt\n31721.txt\n69.txt\n21728.txt\n12358.txt\n3505.txt\n26385.txt\n5425.txt\n26371.txt\n10769.txt\n1821.txt\n11939.txt\n28393.txt\n23527.txt\n10525.txt\n13053.txt\n21977.txt\n14596.txt\n27630.txt\n11623.txt\n12005.txt\n23851.txt\n30455.txt\n15006.txt\n19670.txt\n9194.txt\n22574.txt\n6979.txt\n29698.txt\n23906.txt\n8162.txt\n29226.txt\n17332.txt\n24395.txt\n19220.txt\n32309.txt\n20173.txt\n25717.txt\n32439.txt\n9397.txt\n7409.txt\n5586.txt\n1278.txt\n21876.txt\n31221.txt\n14739.txt\n7597.txt\n13092.txt\n7316.txt\n183.txt\n28457.txt\n22606.txt\n25045.txt\n5704.txt\n20406.txt\n10185.txt\n23599.txt\n11406.txt\n5150.txt\n5620.txt\n25477.txt\n26197.txt\n12534.txt\n15205.txt\n31818.txt\n3325.txt\n17500.txt\n24097.txt\n16980.txt\n16669.txt\n7690.txt\n11529.txt\n31385.txt\n28125.txt\n26842.txt\n32751.txt\n3889.txt\n9150.txt\n2675.txt\n26702.txt\n27142.txt\n1413.txt\n3171.txt\n14855.txt\n31192.txt\n17541.txt\n17900.txt\n4789.txt\n30412.txt\n9338.txt\n11929.txt\n21843.txt\n27191.txt\n10040.txt\n13583.txt\n14974.txt\n24211.txt\n22215.txt\n675.txt\n28172.txt\n12480.txt\n31997.txt\n23247.txt\n11475.txt\n11288.txt\n15897.txt\n23344.txt\n21881.txt\n19200.txt\n12767.txt\n15629.txt\n27187.txt\n7895.txt\n10900.txt\n16557.txt\n9373.txt\n2308.txt\n25439.txt\n3843.txt\n5053.txt\n1713.txt\n31236.txt\n24077.txt\n4336.txt\n14099.txt\n7822.txt\n8788.txt\n18587.txt\n698.txt\n10366.txt\nSPUD0706.txt\n25703.txt\n8372.txt\n11807.txt\n7788.txt\n1751.txt\n20964.txt\n31433.txt\n8592.txt\n29158.txt\n22681.txt\n5483.txt\n9144.txt\n24271.txt\n6969.txt\n1509.txt\n23136.txt\n3701.txt\n32579.txt\n21683.txt\n16492.txt\n18944.txt\n5388.txt\n27119.txt\n5308.txt\n18573.txt\n8151.txt\n1518.txt\n737.txt\n"
    }
   ],
   "source": [
    "import os\n",
    "\n",
    "from pathlib import Path\n",
    "\n",
    "directory_in_str = \"Data/ST49Hist/\"\n",
    "\n",
    "directory = os.fsencode(directory_in_str) \n",
    "\n",
    "columns = ['WELL ID', 'WELL NAME', 'LICENCE', 'CONTRACTOR BA ID', 'CONTRACTOR NAME', 'RIG NUMBER', 'ACTIVITY DATE', 'FIELD CENTRE', 'BA ID', 'LICENSEE', 'NEW PROJECTED TOTAL DEPTH', 'ACTIVITY TYPE', 'DATE', 'ATS', 'ConvDF', 'Lat', 'Long', 'WEEK', 'MONTH']\n",
    "\n",
    "df = pd.DataFrame(columns=columns)\n",
    "\n",
    "ext = ['.txt','.TXT']\n",
    "\n",
    "for file in os.listdir(directory): \n",
    "    filename = os.fsdecode(file) \n",
    "    if filename.endswith(tuple(ext)):\n",
    "        print(filename) \n",
    "        data = parser(os.path.join(directory_in_str, filename))\n",
    "        df = df.append(data, ignore_index=True, sort=False)\n",
    "        continue \n",
    "    else: \n",
    "        continue"
   ]
  },
  {
   "cell_type": "code",
   "execution_count": 4,
   "metadata": {},
   "outputs": [
    {
     "output_type": "execute_result",
     "data": {
      "text/plain": "                   WELL ID                            WELL NAME  LICENCE  \\\n0      03/16-25-031-25W4/0     ARTIS HZ 103 TWINING 16-25-31-25  0487843   \n1      02/15-07-035-04W4/0       KARVE 102 HZ PROVOST 15-7-35-4  0487967   \n2      00/02-02-037-01W5/0                 VESTA TINDA 2-2-37-1  0488091   \n3      03/11-24-041-02W4/0    ROCKEAST HZ 103 HAYTER 11-24-41-2  0484986   \n4      02/01-10-043-08W5/0          OBE 102 DD WILLGR 1-10-43-8  0484674   \n...                    ...                                  ...      ...   \n31180  15/04-31-086-09W4/0           ATH AE05P HANGST 4-31-86-9  0455858   \n31181  05/05-23-090-14W4/0          MACOP AC01P ELLS 5-23-90-14  0461627   \n31182  AB/15-10-091-10W4/0  SUNCOR VOYAGEUR 13-003B 15-10-91-10  0465744   \n31183  04/14-34-108-08W6/0   HUSKY HZ C1-14 RAINBOW 14-34-108-8  0465220   \n31184  00/16-19-114-05W6/0               OURO VIRGO 16-19-114-5  0465040   \n\n      CONTRACTOR BA ID                 CONTRACTOR NAME RIG NUMBER  \\\n0                 0WA4          Trinidad Drilling Ltd.        418   \n1                 0Z41            Ensign Drilling Inc.        348   \n2                 A6EC          Twilight Drilling Ltd.          1   \n3                 A6NZ      Lasso Drilling Corporation          3   \n4                 A6PR  Nabors Drilling Canada Limited         26   \n...                ...                             ...        ...   \n31180             0Y52  Precision Drilling Corporation        192   \n31181             0Y52  Precision Drilling Corporation        144   \n31182             0Y80                    SDS Drilling         38   \n31183             0Z41            Ensign Drilling Inc.        110   \n31184             A0KC           Horizon Drilling Inc.         18   \n\n                 ACTIVITY DATE FIELD CENTRE BA ID  \\\n0      20 Feb 2018 11:00:00 PM     Red Deer  A77W   \n1      20 Feb 2018 10:00:00 PM   Wainwright  A7BT   \n2      21 Feb 2018 05:15:00 AM     Red Deer  A0L1   \n3      20 Feb 2018 09:30:00 PM   Wainwright  A6M1   \n4      21 Feb 2018 04:00:00 PM     Red Deer  0BP8   \n...                        ...          ...   ...   \n31180  14 Mar 2014 04:30:00 PM   Bonnyville  A28L   \n31181  14 Mar 2014 12:45:00 PM   Bonnyville  A5LG   \n31182  15 Mar 2014 01:30:00 AM   Bonnyville  0054   \n31183  14 Mar 2014 07:15:00 PM   High Level  0R46   \n31184  15 Mar 2014 12:30:00 AM   High Level  A5HR   \n\n                           LICENSEE NEW PROJECTED TOTAL DEPTH ACTIVITY TYPE  \\\n0            Artis Exploration Ltd.                             Drill To LD   \n1                 Karve Energy Inc.                             Drill To LD   \n2                 Vesta Energy Ltd.                             Drill To LD   \n3             Rockeast Energy Corp.                             Drill To LD   \n4              Obsidian Energy Ltd.                             Drill To LD   \n...                             ...                       ...           ...   \n31180     Athabasca Oil Corporation                      1333    Resumption   \n31181        Mackay Operating Corp.                              Resumption   \n31182            Suncor Energy Inc.                             Drill To LD   \n31183  Husky Oil Operations Limited                             Drill To LD   \n31184     Ouro Preto Resources Inc.                             Drill To LD   \n\n            DATE       ATS    ConvDF        Lat        Long WEEK MONTH    YEAR  \n0     2018-02-21  25031254  25031254  51.685278 -113.406654    8     2  2018.0  \n1     2018-02-21   7035044   7035044  51.990032 -110.552747    8     2  2018.0  \n2     2018-02-21   2037015   2037015  52.151789 -114.025698    8     2  2018.0  \n3     2018-02-21  24041024  24041024  52.543120 -110.149044    8     2  2018.0  \n4     2018-02-21  10043085  10043085  52.691222 -115.064928    8     2  2018.0  \n...          ...       ...       ...        ...         ...  ...   ...     ...  \n31180 2014-03-15  31086094  31086094  56.500773 -111.401904   11     3  2014.0  \n31181 2014-03-15  23090144  23090144  56.820615 -112.105523   11     3  2014.0  \n31182 2014-03-15  10091104  10091104  56.879014 -111.508184   11     3  2014.0  \n31183 2014-03-15  34108086  34108086  58.419841 -119.227988   11     3  2014.0  \n31184 2014-03-15  19114056  19114056  58.914100 -118.817671   11     3  2014.0  \n\n[31185 rows x 20 columns]",
      "text/html": "<div>\n<style scoped>\n    .dataframe tbody tr th:only-of-type {\n        vertical-align: middle;\n    }\n\n    .dataframe tbody tr th {\n        vertical-align: top;\n    }\n\n    .dataframe thead th {\n        text-align: right;\n    }\n</style>\n<table border=\"1\" class=\"dataframe\">\n  <thead>\n    <tr style=\"text-align: right;\">\n      <th></th>\n      <th>WELL ID</th>\n      <th>WELL NAME</th>\n      <th>LICENCE</th>\n      <th>CONTRACTOR BA ID</th>\n      <th>CONTRACTOR NAME</th>\n      <th>RIG NUMBER</th>\n      <th>ACTIVITY DATE</th>\n      <th>FIELD CENTRE</th>\n      <th>BA ID</th>\n      <th>LICENSEE</th>\n      <th>NEW PROJECTED TOTAL DEPTH</th>\n      <th>ACTIVITY TYPE</th>\n      <th>DATE</th>\n      <th>ATS</th>\n      <th>ConvDF</th>\n      <th>Lat</th>\n      <th>Long</th>\n      <th>WEEK</th>\n      <th>MONTH</th>\n      <th>YEAR</th>\n    </tr>\n  </thead>\n  <tbody>\n    <tr>\n      <th>0</th>\n      <td>03/16-25-031-25W4/0</td>\n      <td>ARTIS HZ 103 TWINING 16-25-31-25</td>\n      <td>0487843</td>\n      <td>0WA4</td>\n      <td>Trinidad Drilling Ltd.</td>\n      <td>418</td>\n      <td>20 Feb 2018 11:00:00 PM</td>\n      <td>Red Deer</td>\n      <td>A77W</td>\n      <td>Artis Exploration Ltd.</td>\n      <td></td>\n      <td>Drill To LD</td>\n      <td>2018-02-21</td>\n      <td>25031254</td>\n      <td>25031254</td>\n      <td>51.685278</td>\n      <td>-113.406654</td>\n      <td>8</td>\n      <td>2</td>\n      <td>2018.0</td>\n    </tr>\n    <tr>\n      <th>1</th>\n      <td>02/15-07-035-04W4/0</td>\n      <td>KARVE 102 HZ PROVOST 15-7-35-4</td>\n      <td>0487967</td>\n      <td>0Z41</td>\n      <td>Ensign Drilling Inc.</td>\n      <td>348</td>\n      <td>20 Feb 2018 10:00:00 PM</td>\n      <td>Wainwright</td>\n      <td>A7BT</td>\n      <td>Karve Energy Inc.</td>\n      <td></td>\n      <td>Drill To LD</td>\n      <td>2018-02-21</td>\n      <td>7035044</td>\n      <td>7035044</td>\n      <td>51.990032</td>\n      <td>-110.552747</td>\n      <td>8</td>\n      <td>2</td>\n      <td>2018.0</td>\n    </tr>\n    <tr>\n      <th>2</th>\n      <td>00/02-02-037-01W5/0</td>\n      <td>VESTA TINDA 2-2-37-1</td>\n      <td>0488091</td>\n      <td>A6EC</td>\n      <td>Twilight Drilling Ltd.</td>\n      <td>1</td>\n      <td>21 Feb 2018 05:15:00 AM</td>\n      <td>Red Deer</td>\n      <td>A0L1</td>\n      <td>Vesta Energy Ltd.</td>\n      <td></td>\n      <td>Drill To LD</td>\n      <td>2018-02-21</td>\n      <td>2037015</td>\n      <td>2037015</td>\n      <td>52.151789</td>\n      <td>-114.025698</td>\n      <td>8</td>\n      <td>2</td>\n      <td>2018.0</td>\n    </tr>\n    <tr>\n      <th>3</th>\n      <td>03/11-24-041-02W4/0</td>\n      <td>ROCKEAST HZ 103 HAYTER 11-24-41-2</td>\n      <td>0484986</td>\n      <td>A6NZ</td>\n      <td>Lasso Drilling Corporation</td>\n      <td>3</td>\n      <td>20 Feb 2018 09:30:00 PM</td>\n      <td>Wainwright</td>\n      <td>A6M1</td>\n      <td>Rockeast Energy Corp.</td>\n      <td></td>\n      <td>Drill To LD</td>\n      <td>2018-02-21</td>\n      <td>24041024</td>\n      <td>24041024</td>\n      <td>52.543120</td>\n      <td>-110.149044</td>\n      <td>8</td>\n      <td>2</td>\n      <td>2018.0</td>\n    </tr>\n    <tr>\n      <th>4</th>\n      <td>02/01-10-043-08W5/0</td>\n      <td>OBE 102 DD WILLGR 1-10-43-8</td>\n      <td>0484674</td>\n      <td>A6PR</td>\n      <td>Nabors Drilling Canada Limited</td>\n      <td>26</td>\n      <td>21 Feb 2018 04:00:00 PM</td>\n      <td>Red Deer</td>\n      <td>0BP8</td>\n      <td>Obsidian Energy Ltd.</td>\n      <td></td>\n      <td>Drill To LD</td>\n      <td>2018-02-21</td>\n      <td>10043085</td>\n      <td>10043085</td>\n      <td>52.691222</td>\n      <td>-115.064928</td>\n      <td>8</td>\n      <td>2</td>\n      <td>2018.0</td>\n    </tr>\n    <tr>\n      <th>...</th>\n      <td>...</td>\n      <td>...</td>\n      <td>...</td>\n      <td>...</td>\n      <td>...</td>\n      <td>...</td>\n      <td>...</td>\n      <td>...</td>\n      <td>...</td>\n      <td>...</td>\n      <td>...</td>\n      <td>...</td>\n      <td>...</td>\n      <td>...</td>\n      <td>...</td>\n      <td>...</td>\n      <td>...</td>\n      <td>...</td>\n      <td>...</td>\n      <td>...</td>\n    </tr>\n    <tr>\n      <th>31180</th>\n      <td>15/04-31-086-09W4/0</td>\n      <td>ATH AE05P HANGST 4-31-86-9</td>\n      <td>0455858</td>\n      <td>0Y52</td>\n      <td>Precision Drilling Corporation</td>\n      <td>192</td>\n      <td>14 Mar 2014 04:30:00 PM</td>\n      <td>Bonnyville</td>\n      <td>A28L</td>\n      <td>Athabasca Oil Corporation</td>\n      <td>1333</td>\n      <td>Resumption</td>\n      <td>2014-03-15</td>\n      <td>31086094</td>\n      <td>31086094</td>\n      <td>56.500773</td>\n      <td>-111.401904</td>\n      <td>11</td>\n      <td>3</td>\n      <td>2014.0</td>\n    </tr>\n    <tr>\n      <th>31181</th>\n      <td>05/05-23-090-14W4/0</td>\n      <td>MACOP AC01P ELLS 5-23-90-14</td>\n      <td>0461627</td>\n      <td>0Y52</td>\n      <td>Precision Drilling Corporation</td>\n      <td>144</td>\n      <td>14 Mar 2014 12:45:00 PM</td>\n      <td>Bonnyville</td>\n      <td>A5LG</td>\n      <td>Mackay Operating Corp.</td>\n      <td></td>\n      <td>Resumption</td>\n      <td>2014-03-15</td>\n      <td>23090144</td>\n      <td>23090144</td>\n      <td>56.820615</td>\n      <td>-112.105523</td>\n      <td>11</td>\n      <td>3</td>\n      <td>2014.0</td>\n    </tr>\n    <tr>\n      <th>31182</th>\n      <td>AB/15-10-091-10W4/0</td>\n      <td>SUNCOR VOYAGEUR 13-003B 15-10-91-10</td>\n      <td>0465744</td>\n      <td>0Y80</td>\n      <td>SDS Drilling</td>\n      <td>38</td>\n      <td>15 Mar 2014 01:30:00 AM</td>\n      <td>Bonnyville</td>\n      <td>0054</td>\n      <td>Suncor Energy Inc.</td>\n      <td></td>\n      <td>Drill To LD</td>\n      <td>2014-03-15</td>\n      <td>10091104</td>\n      <td>10091104</td>\n      <td>56.879014</td>\n      <td>-111.508184</td>\n      <td>11</td>\n      <td>3</td>\n      <td>2014.0</td>\n    </tr>\n    <tr>\n      <th>31183</th>\n      <td>04/14-34-108-08W6/0</td>\n      <td>HUSKY HZ C1-14 RAINBOW 14-34-108-8</td>\n      <td>0465220</td>\n      <td>0Z41</td>\n      <td>Ensign Drilling Inc.</td>\n      <td>110</td>\n      <td>14 Mar 2014 07:15:00 PM</td>\n      <td>High Level</td>\n      <td>0R46</td>\n      <td>Husky Oil Operations Limited</td>\n      <td></td>\n      <td>Drill To LD</td>\n      <td>2014-03-15</td>\n      <td>34108086</td>\n      <td>34108086</td>\n      <td>58.419841</td>\n      <td>-119.227988</td>\n      <td>11</td>\n      <td>3</td>\n      <td>2014.0</td>\n    </tr>\n    <tr>\n      <th>31184</th>\n      <td>00/16-19-114-05W6/0</td>\n      <td>OURO VIRGO 16-19-114-5</td>\n      <td>0465040</td>\n      <td>A0KC</td>\n      <td>Horizon Drilling Inc.</td>\n      <td>18</td>\n      <td>15 Mar 2014 12:30:00 AM</td>\n      <td>High Level</td>\n      <td>A5HR</td>\n      <td>Ouro Preto Resources Inc.</td>\n      <td></td>\n      <td>Drill To LD</td>\n      <td>2014-03-15</td>\n      <td>19114056</td>\n      <td>19114056</td>\n      <td>58.914100</td>\n      <td>-118.817671</td>\n      <td>11</td>\n      <td>3</td>\n      <td>2014.0</td>\n    </tr>\n  </tbody>\n</table>\n<p>31185 rows × 20 columns</p>\n</div>"
     },
     "metadata": {},
     "execution_count": 4
    }
   ],
   "source": [
    "df"
   ]
  },
  {
   "cell_type": "markdown",
   "metadata": {},
   "source": [
    "Export to CSV"
   ]
  },
  {
   "cell_type": "code",
   "execution_count": 5,
   "metadata": {},
   "outputs": [],
   "source": [
    "export = df.to_csv (r'ST49 Historical.csv', index = False)"
   ]
  },
  {
   "cell_type": "markdown",
   "metadata": {},
   "source": [
    "dataframe = pd.read_csv('Historical.csv')\n",
    "dftotal = pd.merge(df, dataframe, how='left', left_on='LICENCE', right_on='LicenceNumber')\n",
    "#dftotal.dropna(inplace=True)\n",
    "dftotal"
   ]
  },
  {
   "cell_type": "markdown",
   "metadata": {},
   "source": [
    "dftotal.to_csv('ST1_ST49.csv', index=False)"
   ]
  },
  {
   "cell_type": "markdown",
   "metadata": {},
   "source": [
    "import plotly.express as px\n",
    "\n",
    "df[\"LICENSEE\"] = df[\"LICENSEE\"].astype(str)\n",
    "\n",
    "fig = px.scatter_geo(df, lon = 'Long', lat = 'Lat', text = 'LICENSEE', color = 'LICENSEE')\n",
    "\n",
    "fig.update_geos(visible=False, resolution=50, showcountries=True, showsubunits=True, scope=\"north america\", fitbounds='locations')\n",
    "\n",
    "fig.update_layout(height=1000, width=1000, margin={\"r\":0,\"t\":0,\"l\":0,\"b\":0})\n",
    "\n",
    "fig.show()\n"
   ]
  },
  {
   "cell_type": "code",
   "execution_count": null,
   "metadata": {},
   "outputs": [],
   "source": []
  }
 ],
 "metadata": {
  "kernelspec": {
   "display_name": "Python 3",
   "language": "python",
   "name": "python3"
  },
  "language_info": {
   "codemirror_mode": {
    "name": "ipython",
    "version": 3
   },
   "file_extension": ".py",
   "mimetype": "text/x-python",
   "name": "python",
   "nbconvert_exporter": "python",
   "pygments_lexer": "ipython3",
   "version": "3.7.6-final"
  }
 },
 "nbformat": 4,
 "nbformat_minor": 4
}