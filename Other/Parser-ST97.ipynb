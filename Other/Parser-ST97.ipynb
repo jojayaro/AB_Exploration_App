{
 "cells": [
  {
   "cell_type": "code",
   "execution_count": 108,
   "metadata": {},
   "outputs": [],
   "source": [
    "import re\n",
    "import pandas as pd"
   ]
  },
  {
   "cell_type": "code",
   "execution_count": 109,
   "metadata": {},
   "outputs": [],
   "source": [
    "def parser(file):\n",
    "    \n",
    "    #HTML to Dataframe and Lat/Long Conversion\n",
    "    data1 = pd.read_html(file, header=0)[2]\n",
    "    \n",
    "    data1['ATS'] = data1['Location  LE/LSD-SEC-TWP-RGEWM'].str.replace(r'[^0-9]+', '')\n",
    "    data1['ATS'] = data1['ATS'].str[-8:]\n",
    "    data1['ATS'] = data1['ATS'].astype('int64')\n",
    "\n",
    "    #Extract Date\n",
    "    lines = []\n",
    "    with open(file, 'r') as file:\n",
    "        for line in file:\n",
    "            lines.append(line.rstrip('\\n'))\n",
    "\n",
    "    Date = (re.split('[\\s]{4,}', lines[21].strip()))\n",
    "    Date = Date[0]\n",
    "    Date = Date.replace('Date:', '')\n",
    "    Date = Date.replace('</b></td>', '')\n",
    "    data1['DATE'] = Date\n",
    "\n",
    "    convcomp = pd.read_csv('ConvComp.csv')\n",
    "    convcomp['ConvDF'] = convcomp['ConvDF'].astype('int64')\n",
    "    dfm = pd.merge(data1, convcomp, how='left', left_on='ATS', right_on='ConvDF')\n",
    "\n",
    "    return dfm"
   ]
  },
  {
   "cell_type": "code",
   "execution_count": 110,
   "metadata": {},
   "outputs": [],
   "source": [
    "import os\n",
    "\n",
    "from pathlib import Path\n",
    "\n",
    "directory_in_str = \"ST97/\"\n",
    "\n",
    "directory = os.fsencode(directory_in_str) \n",
    "\n",
    "columns = ['Licensee Name', 'Application Number', 'Application Purpose',\n",
    "       'Category Type Description', 'Location  LE/LSD-SEC-TWP-RGEWM',\n",
    "       'Licence  Number', 'ATS', 'ConvDF', 'Lat', 'Long', 'DATE']\n",
    "\n",
    "df = pd.DataFrame(columns=columns)\n",
    "\n",
    "ext = ['.html','.HTML']\n",
    "\n",
    "for file in os.listdir(directory): \n",
    "    filename = os.fsdecode(file) \n",
    "    if filename.endswith(tuple(ext)): \n",
    "        data = parser(os.path.join(directory_in_str, filename))\n",
    "        df = df.append(data, ignore_index=True, sort=False)\n",
    "        continue \n",
    "    else: \n",
    "        continue"
   ]
  },
  {
   "cell_type": "code",
   "execution_count": 111,
   "metadata": {},
   "outputs": [
    {
     "output_type": "execute_result",
     "data": {
      "text/plain": "                          Licensee Name Application Number  \\\n0            ORLEN Upstream Canada Ltd.            1928693   \n1                 Baccalieu Energy Inc.            1927852   \n2                Chevron Canada Limited            1928532   \n3              Advantage Oil & Gas Ltd.            1926888   \n4                    Altura Energy Inc.            1927038   \n..                                  ...                ...   \n280  Canadian Natural Resources Limited            1927147   \n281                    MEG Energy Corp.            1926826   \n282           Rolling Hills Energy Ltd.            1927134   \n283                     TAQA North Ltd.            1927158   \n284             TimberRock Energy Corp.            1927152   \n\n    Application Purpose                          Category Type Description  \\\n0     Licence Amendment  Gas processing plant < 0.01 mol/kmol H2S in in...   \n1     Licence Amendment  Oil battery - multiwell < 0.01 mol/kmol H2S in...   \n2     Licence Amendment      Gas battery - multiwell < 1 t/d sulphur inlet   \n3           New Licence     Oil battery - multiwell >= 1 t/d sulphur inlet   \n4     Licence Amendment  Oil satellite - multiwell < 0.01 mol/kmol H2S ...   \n..                  ...                                                ...   \n280         New Licence  Bitumen battery - multiwell < 0.01 mol/kmol H2...   \n281   Licence Amendment  Bitumen battery - multiwell >= 1 t/d sulphur i...   \n282         New Licence  Oil satellite - multiwell < 0.01 mol/kmol H2S ...   \n283         New Licence  Gas battery - multiwell < 0.01 mol/kmol H2S in...   \n284         New Licence  Gas battery - multiwell < 0.01 mol/kmol H2S in...   \n\n    Location  LE/LSD-SEC-TWP-RGEWM Licence  Number       ATS    ConvDF  \\\n0                00/04-13-039-09W5           43942  13039095  13039095   \n1                03/02-10-048-12W5           50427  10048125  10048125   \n2                00/10-33-060-18W5           48902  33060185  33060185   \n3                00/04-21-076-09W6           51848  21076096  21076096   \n4                00/11-27-048-26W4           50823  27048264  27048264   \n..                             ...             ...       ...       ...   \n280              00/03-18-062-07W4           51871  18062074  18062074   \n281              00/02-16-077-05W4           37114  16077054  16077054   \n282              02/04-27-034-03W4           51870  27034034  27034034   \n283              00/04-03-044-11W5           51873   3044115   3044115   \n284              00/14-29-033-05W5           51872  29033055  29033055   \n\n           Lat        Long              DATE  \n0    52.355925 -115.152891       22 May 2020  \n1    53.126924 -115.659509     20 March 2020  \n2    54.232255 -116.626586       05 May 2020  \n3    55.599525 -119.319147  04 February 2020  \n4    53.170568 -113.707966  04 February 2020  \n..         ...         ...               ...  \n280  54.362557 -111.030288  11 February 2020  \n281  55.671811 -110.704494  11 February 2020  \n282  51.947284 -110.335787  11 February 2020  \n283  52.763447 -115.500689  11 February 2020  \n284  51.860534 -114.663176  11 February 2020  \n\n[285 rows x 11 columns]",
      "text/html": "<div>\n<style scoped>\n    .dataframe tbody tr th:only-of-type {\n        vertical-align: middle;\n    }\n\n    .dataframe tbody tr th {\n        vertical-align: top;\n    }\n\n    .dataframe thead th {\n        text-align: right;\n    }\n</style>\n<table border=\"1\" class=\"dataframe\">\n  <thead>\n    <tr style=\"text-align: right;\">\n      <th></th>\n      <th>Licensee Name</th>\n      <th>Application Number</th>\n      <th>Application Purpose</th>\n      <th>Category Type Description</th>\n      <th>Location  LE/LSD-SEC-TWP-RGEWM</th>\n      <th>Licence  Number</th>\n      <th>ATS</th>\n      <th>ConvDF</th>\n      <th>Lat</th>\n      <th>Long</th>\n      <th>DATE</th>\n    </tr>\n  </thead>\n  <tbody>\n    <tr>\n      <th>0</th>\n      <td>ORLEN Upstream Canada Ltd.</td>\n      <td>1928693</td>\n      <td>Licence Amendment</td>\n      <td>Gas processing plant &lt; 0.01 mol/kmol H2S in in...</td>\n      <td>00/04-13-039-09W5</td>\n      <td>43942</td>\n      <td>13039095</td>\n      <td>13039095</td>\n      <td>52.355925</td>\n      <td>-115.152891</td>\n      <td>22 May 2020</td>\n    </tr>\n    <tr>\n      <th>1</th>\n      <td>Baccalieu Energy Inc.</td>\n      <td>1927852</td>\n      <td>Licence Amendment</td>\n      <td>Oil battery - multiwell &lt; 0.01 mol/kmol H2S in...</td>\n      <td>03/02-10-048-12W5</td>\n      <td>50427</td>\n      <td>10048125</td>\n      <td>10048125</td>\n      <td>53.126924</td>\n      <td>-115.659509</td>\n      <td>20 March 2020</td>\n    </tr>\n    <tr>\n      <th>2</th>\n      <td>Chevron Canada Limited</td>\n      <td>1928532</td>\n      <td>Licence Amendment</td>\n      <td>Gas battery - multiwell &lt; 1 t/d sulphur inlet</td>\n      <td>00/10-33-060-18W5</td>\n      <td>48902</td>\n      <td>33060185</td>\n      <td>33060185</td>\n      <td>54.232255</td>\n      <td>-116.626586</td>\n      <td>05 May 2020</td>\n    </tr>\n    <tr>\n      <th>3</th>\n      <td>Advantage Oil &amp; Gas Ltd.</td>\n      <td>1926888</td>\n      <td>New Licence</td>\n      <td>Oil battery - multiwell &gt;= 1 t/d sulphur inlet</td>\n      <td>00/04-21-076-09W6</td>\n      <td>51848</td>\n      <td>21076096</td>\n      <td>21076096</td>\n      <td>55.599525</td>\n      <td>-119.319147</td>\n      <td>04 February 2020</td>\n    </tr>\n    <tr>\n      <th>4</th>\n      <td>Altura Energy Inc.</td>\n      <td>1927038</td>\n      <td>Licence Amendment</td>\n      <td>Oil satellite - multiwell &lt; 0.01 mol/kmol H2S ...</td>\n      <td>00/11-27-048-26W4</td>\n      <td>50823</td>\n      <td>27048264</td>\n      <td>27048264</td>\n      <td>53.170568</td>\n      <td>-113.707966</td>\n      <td>04 February 2020</td>\n    </tr>\n    <tr>\n      <th>...</th>\n      <td>...</td>\n      <td>...</td>\n      <td>...</td>\n      <td>...</td>\n      <td>...</td>\n      <td>...</td>\n      <td>...</td>\n      <td>...</td>\n      <td>...</td>\n      <td>...</td>\n      <td>...</td>\n    </tr>\n    <tr>\n      <th>280</th>\n      <td>Canadian Natural Resources Limited</td>\n      <td>1927147</td>\n      <td>New Licence</td>\n      <td>Bitumen battery - multiwell &lt; 0.01 mol/kmol H2...</td>\n      <td>00/03-18-062-07W4</td>\n      <td>51871</td>\n      <td>18062074</td>\n      <td>18062074</td>\n      <td>54.362557</td>\n      <td>-111.030288</td>\n      <td>11 February 2020</td>\n    </tr>\n    <tr>\n      <th>281</th>\n      <td>MEG Energy Corp.</td>\n      <td>1926826</td>\n      <td>Licence Amendment</td>\n      <td>Bitumen battery - multiwell &gt;= 1 t/d sulphur i...</td>\n      <td>00/02-16-077-05W4</td>\n      <td>37114</td>\n      <td>16077054</td>\n      <td>16077054</td>\n      <td>55.671811</td>\n      <td>-110.704494</td>\n      <td>11 February 2020</td>\n    </tr>\n    <tr>\n      <th>282</th>\n      <td>Rolling Hills Energy Ltd.</td>\n      <td>1927134</td>\n      <td>New Licence</td>\n      <td>Oil satellite - multiwell &lt; 0.01 mol/kmol H2S ...</td>\n      <td>02/04-27-034-03W4</td>\n      <td>51870</td>\n      <td>27034034</td>\n      <td>27034034</td>\n      <td>51.947284</td>\n      <td>-110.335787</td>\n      <td>11 February 2020</td>\n    </tr>\n    <tr>\n      <th>283</th>\n      <td>TAQA North Ltd.</td>\n      <td>1927158</td>\n      <td>New Licence</td>\n      <td>Gas battery - multiwell &lt; 0.01 mol/kmol H2S in...</td>\n      <td>00/04-03-044-11W5</td>\n      <td>51873</td>\n      <td>3044115</td>\n      <td>3044115</td>\n      <td>52.763447</td>\n      <td>-115.500689</td>\n      <td>11 February 2020</td>\n    </tr>\n    <tr>\n      <th>284</th>\n      <td>TimberRock Energy Corp.</td>\n      <td>1927152</td>\n      <td>New Licence</td>\n      <td>Gas battery - multiwell &lt; 0.01 mol/kmol H2S in...</td>\n      <td>00/14-29-033-05W5</td>\n      <td>51872</td>\n      <td>29033055</td>\n      <td>29033055</td>\n      <td>51.860534</td>\n      <td>-114.663176</td>\n      <td>11 February 2020</td>\n    </tr>\n  </tbody>\n</table>\n<p>285 rows × 11 columns</p>\n</div>"
     },
     "metadata": {},
     "execution_count": 111
    }
   ],
   "source": [
    "df"
   ]
  },
  {
   "cell_type": "code",
   "execution_count": 112,
   "metadata": {},
   "outputs": [],
   "source": [
    "df.to_csv(r'ST97.csv', index = False)"
   ]
  },
  {
   "cell_type": "code",
   "execution_count": null,
   "metadata": {},
   "outputs": [],
   "source": []
  },
  {
   "cell_type": "code",
   "execution_count": null,
   "metadata": {},
   "outputs": [],
   "source": []
  }
 ],
 "metadata": {
  "language_info": {
   "codemirror_mode": {
    "name": "ipython",
    "version": 3
   },
   "file_extension": ".py",
   "mimetype": "text/x-python",
   "name": "python",
   "nbconvert_exporter": "python",
   "pygments_lexer": "ipython3",
   "version": "3.7.6-final"
  },
  "orig_nbformat": 2,
  "kernelspec": {
   "name": "python3",
   "display_name": "Python 3"
  }
 },
 "nbformat": 4,
 "nbformat_minor": 2
}