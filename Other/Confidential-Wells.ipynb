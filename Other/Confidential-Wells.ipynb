{
 "cells": [
  {
   "cell_type": "code",
   "execution_count": 1,
   "metadata": {},
   "outputs": [],
   "source": [
    "import re\n",
    "import pandas as pd\n",
    "import numpy as np"
   ]
  },
  {
   "cell_type": "code",
   "execution_count": 2,
   "metadata": {},
   "outputs": [
    {
     "output_type": "execute_result",
     "data": {
      "text/plain": "      Well Location         Licence #  Licensee Code & Name                 \\\n0     00/08-27-001-24w4/3      493977  A78R Lance Exploration Corp.          \n1     00/14-27-001-24w4/2      493977  A78R Lance Exploration Corp.          \n2     00/16-27-001-24w4/0      493977  A78R Lance Exploration Corp.          \n3     04/13-02-002-20w4/0      495897  A1BB Gryphon Petroleum Corp.          \n4     00/08-18-003-05w4/2      209771  A68Y Pembina NGL Corporation          \n...                   ...         ...                                  ...   \n2336  00/14-12-111-04w6/2      212556  0PL8 Calvalley Petroleum Inc. Les P   \n2337  02/10-08-111-09w6/2      210160  A7LW Raimount Energy Corp.            \n2338  00/09-18-118-21w5/2      225085  A524 Strategic Oil & Gas Ltd.         \n2339  00/06-17-121-23w5/0      478679  A524 Strategic Oil & Gas Ltd.         \n2340  02/16-29-122-21w5/0      454456  A524 Strategic Oil & Gas Ltd.         \n\n       Confidential Type    Conf. Below Frmtn   Conf. Release Date   \n0     Confidential                                       04/09/2020  \n1     Confidential                                       04/09/2020  \n2     Confidential                                       04/09/2020  \n3     Confidential                                       31/10/2020  \n4     Confidential                                    no date avail  \n...                  ...                   ...                  ...  \n2336  Confidential                                    no date avail  \n2337  Confidential                                    no date avail  \n2338  Confidential                                    no date avail  \n2339  Confidential                                    no date avail  \n2340  Confidential                                    no date avail  \n\n[2341 rows x 6 columns]",
      "text/html": "<div>\n<style scoped>\n    .dataframe tbody tr th:only-of-type {\n        vertical-align: middle;\n    }\n\n    .dataframe tbody tr th {\n        vertical-align: top;\n    }\n\n    .dataframe thead th {\n        text-align: right;\n    }\n</style>\n<table border=\"1\" class=\"dataframe\">\n  <thead>\n    <tr style=\"text-align: right;\">\n      <th></th>\n      <th>Well Location</th>\n      <th>Licence #</th>\n      <th>Licensee Code &amp; Name</th>\n      <th>Confidential Type</th>\n      <th>Conf. Below Frmtn</th>\n      <th>Conf. Release Date</th>\n    </tr>\n  </thead>\n  <tbody>\n    <tr>\n      <th>0</th>\n      <td>00/08-27-001-24w4/3</td>\n      <td>493977</td>\n      <td>A78R Lance Exploration Corp.</td>\n      <td>Confidential</td>\n      <td></td>\n      <td>04/09/2020</td>\n    </tr>\n    <tr>\n      <th>1</th>\n      <td>00/14-27-001-24w4/2</td>\n      <td>493977</td>\n      <td>A78R Lance Exploration Corp.</td>\n      <td>Confidential</td>\n      <td></td>\n      <td>04/09/2020</td>\n    </tr>\n    <tr>\n      <th>2</th>\n      <td>00/16-27-001-24w4/0</td>\n      <td>493977</td>\n      <td>A78R Lance Exploration Corp.</td>\n      <td>Confidential</td>\n      <td></td>\n      <td>04/09/2020</td>\n    </tr>\n    <tr>\n      <th>3</th>\n      <td>04/13-02-002-20w4/0</td>\n      <td>495897</td>\n      <td>A1BB Gryphon Petroleum Corp.</td>\n      <td>Confidential</td>\n      <td></td>\n      <td>31/10/2020</td>\n    </tr>\n    <tr>\n      <th>4</th>\n      <td>00/08-18-003-05w4/2</td>\n      <td>209771</td>\n      <td>A68Y Pembina NGL Corporation</td>\n      <td>Confidential</td>\n      <td></td>\n      <td>no date avail</td>\n    </tr>\n    <tr>\n      <th>...</th>\n      <td>...</td>\n      <td>...</td>\n      <td>...</td>\n      <td>...</td>\n      <td>...</td>\n      <td>...</td>\n    </tr>\n    <tr>\n      <th>2336</th>\n      <td>00/14-12-111-04w6/2</td>\n      <td>212556</td>\n      <td>0PL8 Calvalley Petroleum Inc. Les P</td>\n      <td>Confidential</td>\n      <td></td>\n      <td>no date avail</td>\n    </tr>\n    <tr>\n      <th>2337</th>\n      <td>02/10-08-111-09w6/2</td>\n      <td>210160</td>\n      <td>A7LW Raimount Energy Corp.</td>\n      <td>Confidential</td>\n      <td></td>\n      <td>no date avail</td>\n    </tr>\n    <tr>\n      <th>2338</th>\n      <td>00/09-18-118-21w5/2</td>\n      <td>225085</td>\n      <td>A524 Strategic Oil &amp; Gas Ltd.</td>\n      <td>Confidential</td>\n      <td></td>\n      <td>no date avail</td>\n    </tr>\n    <tr>\n      <th>2339</th>\n      <td>00/06-17-121-23w5/0</td>\n      <td>478679</td>\n      <td>A524 Strategic Oil &amp; Gas Ltd.</td>\n      <td>Confidential</td>\n      <td></td>\n      <td>no date avail</td>\n    </tr>\n    <tr>\n      <th>2340</th>\n      <td>02/16-29-122-21w5/0</td>\n      <td>454456</td>\n      <td>A524 Strategic Oil &amp; Gas Ltd.</td>\n      <td>Confidential</td>\n      <td></td>\n      <td>no date avail</td>\n    </tr>\n  </tbody>\n</table>\n<p>2341 rows × 6 columns</p>\n</div>"
     },
     "metadata": {},
     "execution_count": 2
    }
   ],
   "source": [
    "data1 = pd.read_csv('ConWell.csv')\n",
    "data1"
   ]
  },
  {
   "cell_type": "code",
   "execution_count": 3,
   "metadata": {},
   "outputs": [
    {
     "output_type": "execute_result",
     "data": {
      "text/plain": "Index(['Well Location      ', '  Licence #',\n       ' Licensee Code & Name               ', ' Confidential Type',\n       '  Conf. Below Frmtn ', ' Conf. Release Date '],\n      dtype='object')"
     },
     "metadata": {},
     "execution_count": 3
    }
   ],
   "source": [
    "data1.columns"
   ]
  },
  {
   "cell_type": "code",
   "execution_count": 4,
   "metadata": {},
   "outputs": [
    {
     "output_type": "execute_result",
     "data": {
      "text/plain": "      Well Location         Licence #  Licensee Code & Name                 \\\n0     00/08-27-001-24w4/3      493977       Lance Exploration Corp.          \n1     00/14-27-001-24w4/2      493977       Lance Exploration Corp.          \n2     00/16-27-001-24w4/0      493977       Lance Exploration Corp.          \n3     04/13-02-002-20w4/0      495897       Gryphon Petroleum Corp.          \n4     00/08-18-003-05w4/2      209771       Pembina NGL Corporation          \n...                   ...         ...                                  ...   \n2336  00/14-12-111-04w6/2      212556       Calvalley Petroleum Inc. Les P   \n2337  02/10-08-111-09w6/2      210160       Raimount Energy Corp.            \n2338  00/09-18-118-21w5/2      225085       Strategic Oil & Gas Ltd.         \n2339  00/06-17-121-23w5/0      478679       Strategic Oil & Gas Ltd.         \n2340  02/16-29-122-21w5/0      454456       Strategic Oil & Gas Ltd.         \n\n       Confidential Type    Conf. Below Frmtn   Conf. Release Date        ATS  \n0     Confidential                                       04/09/2020  27001244  \n1     Confidential                                       04/09/2020  27001244  \n2     Confidential                                       04/09/2020  27001244  \n3     Confidential                                       31/10/2020   2002204  \n4     Confidential                                    no date avail  18003054  \n...                  ...                   ...                  ...       ...  \n2336  Confidential                                    no date avail  12111046  \n2337  Confidential                                    no date avail   8111096  \n2338  Confidential                                    no date avail  18118215  \n2339  Confidential                                    no date avail  17121235  \n2340  Confidential                                    no date avail  29122215  \n\n[2341 rows x 7 columns]",
      "text/html": "<div>\n<style scoped>\n    .dataframe tbody tr th:only-of-type {\n        vertical-align: middle;\n    }\n\n    .dataframe tbody tr th {\n        vertical-align: top;\n    }\n\n    .dataframe thead th {\n        text-align: right;\n    }\n</style>\n<table border=\"1\" class=\"dataframe\">\n  <thead>\n    <tr style=\"text-align: right;\">\n      <th></th>\n      <th>Well Location</th>\n      <th>Licence #</th>\n      <th>Licensee Code &amp; Name</th>\n      <th>Confidential Type</th>\n      <th>Conf. Below Frmtn</th>\n      <th>Conf. Release Date</th>\n      <th>ATS</th>\n    </tr>\n  </thead>\n  <tbody>\n    <tr>\n      <th>0</th>\n      <td>00/08-27-001-24w4/3</td>\n      <td>493977</td>\n      <td>Lance Exploration Corp.</td>\n      <td>Confidential</td>\n      <td></td>\n      <td>04/09/2020</td>\n      <td>27001244</td>\n    </tr>\n    <tr>\n      <th>1</th>\n      <td>00/14-27-001-24w4/2</td>\n      <td>493977</td>\n      <td>Lance Exploration Corp.</td>\n      <td>Confidential</td>\n      <td></td>\n      <td>04/09/2020</td>\n      <td>27001244</td>\n    </tr>\n    <tr>\n      <th>2</th>\n      <td>00/16-27-001-24w4/0</td>\n      <td>493977</td>\n      <td>Lance Exploration Corp.</td>\n      <td>Confidential</td>\n      <td></td>\n      <td>04/09/2020</td>\n      <td>27001244</td>\n    </tr>\n    <tr>\n      <th>3</th>\n      <td>04/13-02-002-20w4/0</td>\n      <td>495897</td>\n      <td>Gryphon Petroleum Corp.</td>\n      <td>Confidential</td>\n      <td></td>\n      <td>31/10/2020</td>\n      <td>2002204</td>\n    </tr>\n    <tr>\n      <th>4</th>\n      <td>00/08-18-003-05w4/2</td>\n      <td>209771</td>\n      <td>Pembina NGL Corporation</td>\n      <td>Confidential</td>\n      <td></td>\n      <td>no date avail</td>\n      <td>18003054</td>\n    </tr>\n    <tr>\n      <th>...</th>\n      <td>...</td>\n      <td>...</td>\n      <td>...</td>\n      <td>...</td>\n      <td>...</td>\n      <td>...</td>\n      <td>...</td>\n    </tr>\n    <tr>\n      <th>2336</th>\n      <td>00/14-12-111-04w6/2</td>\n      <td>212556</td>\n      <td>Calvalley Petroleum Inc. Les P</td>\n      <td>Confidential</td>\n      <td></td>\n      <td>no date avail</td>\n      <td>12111046</td>\n    </tr>\n    <tr>\n      <th>2337</th>\n      <td>02/10-08-111-09w6/2</td>\n      <td>210160</td>\n      <td>Raimount Energy Corp.</td>\n      <td>Confidential</td>\n      <td></td>\n      <td>no date avail</td>\n      <td>8111096</td>\n    </tr>\n    <tr>\n      <th>2338</th>\n      <td>00/09-18-118-21w5/2</td>\n      <td>225085</td>\n      <td>Strategic Oil &amp; Gas Ltd.</td>\n      <td>Confidential</td>\n      <td></td>\n      <td>no date avail</td>\n      <td>18118215</td>\n    </tr>\n    <tr>\n      <th>2339</th>\n      <td>00/06-17-121-23w5/0</td>\n      <td>478679</td>\n      <td>Strategic Oil &amp; Gas Ltd.</td>\n      <td>Confidential</td>\n      <td></td>\n      <td>no date avail</td>\n      <td>17121235</td>\n    </tr>\n    <tr>\n      <th>2340</th>\n      <td>02/16-29-122-21w5/0</td>\n      <td>454456</td>\n      <td>Strategic Oil &amp; Gas Ltd.</td>\n      <td>Confidential</td>\n      <td></td>\n      <td>no date avail</td>\n      <td>29122215</td>\n    </tr>\n  </tbody>\n</table>\n<p>2341 rows × 7 columns</p>\n</div>"
     },
     "metadata": {},
     "execution_count": 4
    }
   ],
   "source": [
    "data1['ATS'] = data1['Well Location      '].str.replace(r'[^0-9]+', '')\n",
    "data1['ATS'] = data1['ATS'].str[-9:-1]\n",
    "data1[' Licensee Code & Name               '] = data1[' Licensee Code & Name               '].str[4:]\n",
    "data1['ATS'] = data1['ATS'].astype('int64')\n",
    "data1"
   ]
  },
  {
   "cell_type": "code",
   "execution_count": 5,
   "metadata": {},
   "outputs": [
    {
     "output_type": "execute_result",
     "data": {
      "text/plain": "      Well Location         Licence #  Licensee Code & Name                 \\\n0     00/08-27-001-24w4/3      493977       Lance Exploration Corp.          \n1     00/14-27-001-24w4/2      493977       Lance Exploration Corp.          \n2     00/16-27-001-24w4/0      493977       Lance Exploration Corp.          \n3     04/13-02-002-20w4/0      495897       Gryphon Petroleum Corp.          \n4     00/08-18-003-05w4/2      209771       Pembina NGL Corporation          \n...                   ...         ...                                  ...   \n2336  00/14-12-111-04w6/2      212556       Calvalley Petroleum Inc. Les P   \n2337  02/10-08-111-09w6/2      210160       Raimount Energy Corp.            \n2338  00/09-18-118-21w5/2      225085       Strategic Oil & Gas Ltd.         \n2339  00/06-17-121-23w5/0      478679       Strategic Oil & Gas Ltd.         \n2340  02/16-29-122-21w5/0      454456       Strategic Oil & Gas Ltd.         \n\n       Confidential Type    Conf. Below Frmtn   Conf. Release Date        ATS  \\\n0     Confidential                                       04/09/2020  27001244   \n1     Confidential                                       04/09/2020  27001244   \n2     Confidential                                       04/09/2020  27001244   \n3     Confidential                                       31/10/2020   2002204   \n4     Confidential                                    no date avail  18003054   \n...                  ...                   ...                  ...       ...   \n2336  Confidential                                    no date avail  12111046   \n2337  Confidential                                    no date avail   8111096   \n2338  Confidential                                    no date avail  18118215   \n2339  Confidential                                    no date avail  17121235   \n2340  Confidential                                    no date avail  29122215   \n\n        ConvDF        Lat        Long  \n0     27001244  49.064783 -113.120932  \n1     27001244  49.064783 -113.120932  \n2     27001244  49.064783 -113.120932  \n3      2002204  49.094096 -112.565607  \n4     18003054  49.210441 -110.656332  \n...        ...        ...         ...  \n2336  12111046  58.623351 -118.507849  \n2337   8111096  58.623356 -119.465513  \n2338  18118215  59.248972 -117.558573  \n2339  17121235  59.510724 -117.911639  \n2340  29122215  59.627010 -117.566669  \n\n[2341 rows x 10 columns]",
      "text/html": "<div>\n<style scoped>\n    .dataframe tbody tr th:only-of-type {\n        vertical-align: middle;\n    }\n\n    .dataframe tbody tr th {\n        vertical-align: top;\n    }\n\n    .dataframe thead th {\n        text-align: right;\n    }\n</style>\n<table border=\"1\" class=\"dataframe\">\n  <thead>\n    <tr style=\"text-align: right;\">\n      <th></th>\n      <th>Well Location</th>\n      <th>Licence #</th>\n      <th>Licensee Code &amp; Name</th>\n      <th>Confidential Type</th>\n      <th>Conf. Below Frmtn</th>\n      <th>Conf. Release Date</th>\n      <th>ATS</th>\n      <th>ConvDF</th>\n      <th>Lat</th>\n      <th>Long</th>\n    </tr>\n  </thead>\n  <tbody>\n    <tr>\n      <th>0</th>\n      <td>00/08-27-001-24w4/3</td>\n      <td>493977</td>\n      <td>Lance Exploration Corp.</td>\n      <td>Confidential</td>\n      <td></td>\n      <td>04/09/2020</td>\n      <td>27001244</td>\n      <td>27001244</td>\n      <td>49.064783</td>\n      <td>-113.120932</td>\n    </tr>\n    <tr>\n      <th>1</th>\n      <td>00/14-27-001-24w4/2</td>\n      <td>493977</td>\n      <td>Lance Exploration Corp.</td>\n      <td>Confidential</td>\n      <td></td>\n      <td>04/09/2020</td>\n      <td>27001244</td>\n      <td>27001244</td>\n      <td>49.064783</td>\n      <td>-113.120932</td>\n    </tr>\n    <tr>\n      <th>2</th>\n      <td>00/16-27-001-24w4/0</td>\n      <td>493977</td>\n      <td>Lance Exploration Corp.</td>\n      <td>Confidential</td>\n      <td></td>\n      <td>04/09/2020</td>\n      <td>27001244</td>\n      <td>27001244</td>\n      <td>49.064783</td>\n      <td>-113.120932</td>\n    </tr>\n    <tr>\n      <th>3</th>\n      <td>04/13-02-002-20w4/0</td>\n      <td>495897</td>\n      <td>Gryphon Petroleum Corp.</td>\n      <td>Confidential</td>\n      <td></td>\n      <td>31/10/2020</td>\n      <td>2002204</td>\n      <td>2002204</td>\n      <td>49.094096</td>\n      <td>-112.565607</td>\n    </tr>\n    <tr>\n      <th>4</th>\n      <td>00/08-18-003-05w4/2</td>\n      <td>209771</td>\n      <td>Pembina NGL Corporation</td>\n      <td>Confidential</td>\n      <td></td>\n      <td>no date avail</td>\n      <td>18003054</td>\n      <td>18003054</td>\n      <td>49.210441</td>\n      <td>-110.656332</td>\n    </tr>\n    <tr>\n      <th>...</th>\n      <td>...</td>\n      <td>...</td>\n      <td>...</td>\n      <td>...</td>\n      <td>...</td>\n      <td>...</td>\n      <td>...</td>\n      <td>...</td>\n      <td>...</td>\n      <td>...</td>\n    </tr>\n    <tr>\n      <th>2336</th>\n      <td>00/14-12-111-04w6/2</td>\n      <td>212556</td>\n      <td>Calvalley Petroleum Inc. Les P</td>\n      <td>Confidential</td>\n      <td></td>\n      <td>no date avail</td>\n      <td>12111046</td>\n      <td>12111046</td>\n      <td>58.623351</td>\n      <td>-118.507849</td>\n    </tr>\n    <tr>\n      <th>2337</th>\n      <td>02/10-08-111-09w6/2</td>\n      <td>210160</td>\n      <td>Raimount Energy Corp.</td>\n      <td>Confidential</td>\n      <td></td>\n      <td>no date avail</td>\n      <td>8111096</td>\n      <td>8111096</td>\n      <td>58.623356</td>\n      <td>-119.465513</td>\n    </tr>\n    <tr>\n      <th>2338</th>\n      <td>00/09-18-118-21w5/2</td>\n      <td>225085</td>\n      <td>Strategic Oil &amp; Gas Ltd.</td>\n      <td>Confidential</td>\n      <td></td>\n      <td>no date avail</td>\n      <td>18118215</td>\n      <td>18118215</td>\n      <td>59.248972</td>\n      <td>-117.558573</td>\n    </tr>\n    <tr>\n      <th>2339</th>\n      <td>00/06-17-121-23w5/0</td>\n      <td>478679</td>\n      <td>Strategic Oil &amp; Gas Ltd.</td>\n      <td>Confidential</td>\n      <td></td>\n      <td>no date avail</td>\n      <td>17121235</td>\n      <td>17121235</td>\n      <td>59.510724</td>\n      <td>-117.911639</td>\n    </tr>\n    <tr>\n      <th>2340</th>\n      <td>02/16-29-122-21w5/0</td>\n      <td>454456</td>\n      <td>Strategic Oil &amp; Gas Ltd.</td>\n      <td>Confidential</td>\n      <td></td>\n      <td>no date avail</td>\n      <td>29122215</td>\n      <td>29122215</td>\n      <td>59.627010</td>\n      <td>-117.566669</td>\n    </tr>\n  </tbody>\n</table>\n<p>2341 rows × 10 columns</p>\n</div>"
     },
     "metadata": {},
     "execution_count": 5
    }
   ],
   "source": [
    "convcomp = pd.read_csv('ConvComp.csv')\n",
    "convcomp['ConvDF'] = convcomp['ConvDF'].astype('int64')\n",
    "dfm = pd.merge(data1, convcomp, how='left', left_on='ATS', right_on='ConvDF')\n",
    "dfm"
   ]
  },
  {
   "cell_type": "code",
   "execution_count": 6,
   "metadata": {},
   "outputs": [],
   "source": [
    "dfm.to_csv(r'Confidential-Wells.csv', index = False)"
   ]
  },
  {
   "cell_type": "code",
   "execution_count": null,
   "metadata": {},
   "outputs": [],
   "source": []
  }
 ],
 "metadata": {
  "kernelspec": {
   "display_name": "Python 3",
   "language": "python",
   "name": "python3"
  },
  "language_info": {
   "codemirror_mode": {
    "name": "ipython",
    "version": 3
   },
   "file_extension": ".py",
   "mimetype": "text/x-python",
   "name": "python",
   "nbconvert_exporter": "python",
   "pygments_lexer": "ipython3",
   "version": "3.7.6-final"
  }
 },
 "nbformat": 4,
 "nbformat_minor": 4
}