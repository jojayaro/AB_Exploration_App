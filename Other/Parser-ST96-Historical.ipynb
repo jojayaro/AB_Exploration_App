{
 "cells": [
  {
   "cell_type": "code",
   "execution_count": 31,
   "metadata": {},
   "outputs": [],
   "source": [
    "import re\n",
    "import pandas as pd\n",
    "import numpy as np\n",
    "import datetime"
   ]
  },
  {
   "cell_type": "code",
   "execution_count": 32,
   "metadata": {},
   "outputs": [],
   "source": [
    "def parser(file):\n",
    "    #Initialize list\n",
    "    lines = []\n",
    "    \n",
    "    #Open File\n",
    "    with open(file, 'r') as file:\n",
    "        for line in file:\n",
    "            lines.append(line.rstrip('\\n'))\n",
    "\n",
    "    #Extract Date\n",
    "    Date = (re.split('[\\s]{4,}', lines[1].strip()))\n",
    "    Date = Date[0]\n",
    "    Date = Date.replace('RUN DATE:  ', '')\n",
    "\n",
    "    #Extract indices to cut list\n",
    "    indices = [i for i, s in enumerate(lines) if '------' in s]\n",
    "    indicest = [i for i, s in enumerate(lines) if 'NOTE:' in s]\n",
    "\n",
    "    #Create list with only well licenses\n",
    "    df1 = lines[(indices[0]+1):(indicest[0]-1)]\n",
    "\n",
    "    #Create indexes to slice\n",
    "    df3 = []\n",
    "    for line in df1:\n",
    "        df3.extend(re.split('[\\s]{2,}', line.strip()))\n",
    "    \n",
    "    #Create list without blank items\n",
    "    df3 = [x for x in df3 if x != '']\n",
    "\n",
    "    #Create lists for all 7 elements in the table\n",
    "    df3 = [df3[x:x+7] for x in range(0, len(df3), 7)]\n",
    "\n",
    "    #create a dataframe out of the list\n",
    "    if df3 != []:\n",
    "        data1 = pd.DataFrame(df3)\n",
    "        data1.set_axis(['LICENCE NUMBER', 'PERMITTEE', 'SUBT CODE', 'PIPELINE FROM LOC', 'O.D. (MAX)', 'APPROVAL DATE', 'OPERATING KM'], axis = 1, inplace=True)\n",
    "        data1['DATE'] = Date\n",
    "\n",
    "        subt = pd.read_csv('SUBT.csv')\n",
    "        dfm = pd.merge(data1, subt, how='left', left_on='SUBT CODE', right_on='SUBT CODE')\n",
    "        \n",
    "    return dfm"
   ]
  },
  {
   "cell_type": "code",
   "execution_count": 33,
   "metadata": {
    "tags": []
   },
   "outputs": [
    {
     "output_type": "stream",
     "name": "stdout",
     "text": "25191.txt\n26753.txt\n29546.txt\n22029.txt\n5840.txt\n12962.txt\n28605.txt\n19638.txt\n26841.txt\n20936.txt\n29833.txt\n21621.txt\n7572.txt\n10290.txt\n12472.txt\n3502.txt\n13761.txt\n21673.txt\n5948.txt\n985.txt\n5906.txt\n21347.txt\n16255.txt\n17754.txt\n25322.txt\n29529.txt\n14239.txt\n27708.txt\n3152.txt\n18824.txt\n4734.txt\n4309.txt\n16825.txt\n32343.txt\n6483.txt\n8199.txt\n10194.txt\n23306.txt\n21697.txt\n18857.txt\n29537.txt\n18687.txt\n25980.txt\n11272.txt\n11543.txt\n14442.txt\n18305.txt\n2518.txt\n5141.txt\n12958.txt\n23188.txt\n7851.txt\n11816.txt\n7821.txt\n22050.txt\n22770.txt\n3512.txt\n14572.txt\n22733.txt\n17570.txt\n18294.txt\n8078.txt\n30947.txt\n23044.txt\n25787.txt\n10598.txt\n6523.txt\n30585.txt\n10234.txt\n18886.txt\n31935.txt\n21120.txt\n8172.txt\n8422.txt\n5287.txt\n1564.txt\n4122.txt\n31162.txt\n12487.txt\n12293.txt\n27666.txt\n8675.txt\n428.txt\n14275.txt\n16710.txt\n26832.txt\n15290.txt\n16975.txt\n24659.txt\n22125.txt\n3394.txt\n5177.txt\n24657.txt\n23028.txt\n15694.txt\n531.txt\n5066.txt\n23804.txt\n24344.txt\n11347.txt\n30952.txt\n24434.txt\n24924.txt\n28879.txt\n11404.txt\n29300.txt\n11733.txt\n7649.txt\n22149.txt\n2833.txt\n17617.txt\n30880.txt\n27239.txt\n27688.txt\n5275.txt\n19276.txt\n3132.txt\n32028.txt\n32003.txt\n11135.txt\n10145.txt\n15619.txt\n4257.txt\n10171.txt\n13885.txt\n32131.txt\n1283.txt\n9677.txt\n22761.txt\n32758.txt\n9862.txt\n31759.txt\n26572.txt\n10564.txt\n24021.txt\n17721.txt\n5519.txt\n7986.txt\n9121.txt\n22869.txt\n2277.txt\n15232.txt\n19201.txt\n31070.txt\n2472.txt\n20201.txt\n13946.txt\n18495.txt\n24208.txt\n11425.txt\n3370.txt\n10371.txt\n3191.txt\n28013.txt\n30370.txt\n30854.txt\n9533.txt\n31336.txt\n26097.txt\n21412.txt\n28069.txt\n13027.txt\n2649.txt\n13230.txt\n611.txt\n16533.txt\n958.txt\n23015.txt\n15637.txt\n6398.txt\n31275.txt\n8911.txt\n13218.txt\n12292.txt\n7146.txt\n6822.txt\n3193.txt\n2595.txt\n30142.txt\n25495.txt\n6491.txt\n13909.txt\n22962.txt\n19061.txt\n5028.txt\n19283.txt\n23619.txt\n8423.txt\n3569.txt\n23012.txt\n31164.txt\n18560.txt\n17657.txt\n4563.txt\n24853.txt\n17147.txt\n1439.txt\n5562.txt\n27357.txt\n5477.txt\n31815.txt\n31719.txt\n4779.txt\n22038.txt\n3611.txt\n16094.TXT\n19776.txt\n8618.txt\n4830.txt\n27970.txt\n29750.txt\n6894.txt\n23913.txt\n2135.txt\n790.txt\n12837.txt\n30194.txt\n15653.txt\n4401.txt\n8878.txt\n24947.txt\n30944.txt\n31091.txt\n26564.txt\n27772.txt\n18553.txt\n26946.txt\n20014.txt\n21639.txt\n27769.txt\n24449.txt\n28468.txt\n31013.txt\n13122.txt\n16622.txt\n10428.txt\n29299.txt\n5956.txt\n12910.txt\n24539.txt\n16132.txt\n8281.txt\n2198.txt\n17114.txt\n11763.txt\n24596.txt\n23532.txt\n1602.txt\n21266.txt\n15787.txt\n23699.txt\n10341.txt\n23835.txt\n12334.txt\n34.txt\n24403.txt\n747.txt\n12822.txt\n11439.txt\n22435.txt\n1358.txt\n16672.txt\n4202.txt\n7076.txt\n479.txt\n31623.txt\n8614.txt\n7893.txt\n23419.txt\n6784.txt\n19464.txt\n1338.txt\n1012.txt\n6329.txt\n17486.txt\n23403.txt\n26761.txt\n3678.txt\n17698.txt\n32522.txt\n6799.txt\n30390.txt\n24295.txt\n25858.txt\n4020.txt\n27686.txt\n25190.txt\n28998.txt\n21907.txt\n30253.txt\n6253.txt\n4139.txt\n11438.txt\n20870.txt\n13012.txt\n2099.txt\n19934.txt\n10798.txt\n24879.txt\n17778.txt\n8532.txt\n9987.txt\n31779.txt\n15800.txt\n6465.txt\n4010.txt\n25689.txt\n12038.txt\n23330.txt\n13274.txt\n30587.txt\n24705.txt\n15253.txt\n32373.txt\n3616.txt\n500.txt\n8642.txt\n7884.txt\n19957.txt\n15910.txt\n14805.txt\n20609.txt\n16824.txt\n23588.txt\n21476.txt\n30814.txt\n7804.txt\n7267.txt\n26701.txt\n19745.txt\n2511.txt\n23335.txt\n2612.txt\n17217.txt\n25700.txt\n16744.txt\n19364.txt\n9369.txt\n21953.txt\n8441.txt\n22870.txt\n31417.txt\n5658.txt\n30358.txt\n1100.txt\n10869.txt\n4168.txt\n16087.txt\n24463.txt\n21910.txt\n32061.txt\n26965.txt\n19649.txt\n7475.txt\n19514.txt\n23694.txt\n1933.txt\n24115.txt\n21950.txt\n13727.txt\n12939.txt\n8370.txt\n5049.txt\n13146.txt\n552.txt\n31333.txt\n30897.txt\n18360.txt\n17279.txt\n13194.txt\n14104.txt\n5559.txt\n23627.txt\n32351.txt\n8865.txt\n15962.txt\n14587.txt\n26235.txt\n3124.txt\n16679.txt\n11117.txt\n22481.txt\n19683.txt\n10987.txt\n477.txt\n9892.txt\n10565.txt\n30014.txt\n31102.txt\n14188.txt\n9822.txt\n29666.txt\n27282.txt\n10607.txt\n12815.txt\n17996.txt\n13653.txt\n10539.txt\n16030.txt\n6788.txt\n6190.txt\n26944.txt\n31276.txt\n32345.txt\n13468.txt\n21626.txt\n28454.txt\n23879.txt\n29290.txt\n3445.txt\n8432.txt\n31969.txt\n3812.txt\n6143.txt\n30491.txt\n14812.txt\n13649.txt\n27023.txt\n30896.txt\n5375.txt\n13548.txt\n21706.txt\n15319.txt\n20196.txt\n22963.txt\n3760.txt\n20747.txt\n16189.txt\n888.txt\n14283.txt\n26226.txt\n11242.txt\n21499.txt\n20372.txt\n12741.txt\n28166.txt\n13315.txt\n30493.txt\n24617.txt\n1409.txt\n25938.txt\n7007.txt\n27430.txt\n15599.txt\n5049.TXT\n15089.txt\n21638.txt\n24416.txt\n10599.txt\n12221.txt\n16221.txt\n11996.txt\n30496.txt\n22530.txt\n26461.txt\n29786.txt\n17829.txt\n15961.txt\n21952.txt\n4447.txt\n23057.txt\n1765.txt\n24291.txt\n20945.txt\n22581.txt\n7100.txt\n6606.txt\n26067.txt\n1761.txt\n8147.txt\n31112.txt\n13090.txt\n14506.txt\n19169.txt\n4537.txt\n19527.txt\n18235.txt\n8619.txt\n10808.txt\n5901.txt\n28211.txt\n12627.txt\n8966.txt\n7861.txt\n5518.txt\n17145.txt\n25581.txt\n5417.txt\n28335.txt\n118.txt\n18913.txt\n19254.txt\n26892.txt\n19529.txt\n21178.txt\n26954.txt\n22419.txt\n13285.txt\n25069.txt\n18537.txt\n20462.txt\n31934.txt\n13559.txt\n20069.txt\n5642.txt\n31603.txt\n2131.txt\n18134.txt\n4644.txt\n5893.txt\n22229.txt\n2744.txt\n102.txt\n29712.txt\n4657.txt\n23784.txt\n16881.txt\n11588.txt\n32264.TXT\n2446.txt\n12643.txt\n2426.txt\n17382.txt\n31061.txt\n29769.txt\n22590.txt\n28189.txt\n20035.txt\n1260.txt\n731.txt\n30005.txt\n5270.txt\n11223.txt\n24915.txt\n14290.txt\n10010.txt\n15825.txt\n24461.txt\n8007.txt\n28378.txt\n28916.txt\n15499.txt\n31411.txt\n25418.txt\n13652.txt\n19619.txt\n13750.txt\n22096.txt\n6825.txt\n12947.txt\n27351.txt\n32245.txt\n19368.txt\n26136.txt\n19563.txt\n4217.txt\n16905.txt\n10766.txt\n23896.txt\n28407.txt\n11545.txt\n25324.txt\n19733.txt\n10851.txt\n20140.txt\n31059.TXT\n25946.txt\n19158.txt\n14909.txt\n7283.txt\n9759.txt\n2085.txt\n10865.txt\n19052.txt\n28538.txt\n22503.txt\n20659.txt\n36.txt\n5640.txt\n13208.txt\n23009.txt\n3138.txt\n25217.txt\n9403.txt\n9944.txt\n15874.txt\n6183.txt\n25608.txt\n17911.txt\n3603.txt\n13147.txt\n30371.txt\n19627.txt\n3741.txt\n3256.txt\n22854.txt\n14119.txt\n2547.txt\n10263.txt\n3228.txt\n21029.txt\n29127.txt\n20062.txt\n6504.txt\n13726.txt\n16878.txt\n32335.txt\n2159.txt\n8813.txt\n28067.txt\n4935.txt\n29012.txt\n24192.txt\n20835.txt\n21658.txt\n24565.txt\n32377.txt\n24934.txt\n25620.txt\n28634.txt\n23115.txt\n27418.txt\n16066.txt\n32561.txt\n1476.txt\n29084.txt\n1146.txt\n13449.txt\n10947.txt\n31738.txt\n26514.txt\n17409.txt\n10884.txt\n8083.txt\n12034.txt\n17651.txt\n15663.txt\n17700.txt\n13076.txt\n31968.txt\n5925.txt\n14696.txt\n14605.txt\n22785.TXT\n19994.txt\n17856.txt\n22999.txt\n11335.TXT\n19738.txt\n10580.txt\n8206.txt\n22206.txt\n12225.txt\n19885.txt\n8794.txt\n15484.txt\n5545.txt\n7344.txt\n20044.txt\n8733.txt\n650.txt\n16114.txt\n30922.txt\n424.txt\n30774.txt\n12401.txt\n11139.txt\n81.txt\n15673.txt\n20890.txt\n22085.txt\n1468.txt\n7411.txt\n18233.txt\n15353.txt\n30114.txt\n17843.txt\n9803.txt\n12024.txt\n5266.txt\n15782.txt\n12259.txt\n27522.txt\n16705.txt\n5645.txt\n8518.txt\n13511.txt\n3437.txt\n16246.txt\n20214.txt\n11190.txt\n214.txt\n23536.txt\n22047.txt\n2777.txt\n31150.txt\n9051.txt\n31039.txt\n21537.txt\n4863.txt\n12396.txt\n18364.txt\n13852.txt\n29472.txt\n1929.txt\n1076.txt\n28379.txt\n24353.txt\n10183.txt\n31097.txt\n15088.txt\n2481.txt\n18973.txt\n27885.txt\n4041.txt\n13733.txt\n31872.txt\n2827.txt\n13992.txt\n9305.txt\n19465.txt\n11886.txt\n28425.txt\n29919.txt\n20416.txt\n19119.txt\n9996.txt\n8812.txt\n18832.txt\n32715.txt\n1606.txt\n20055.txt\n4528.txt\n26308.txt\n29664.txt\n14273.txt\n15640.txt\n7305.txt\n23197.txt\n31373.txt\n10822.txt\n19045.txt\n3056.txt\n11376.txt\n19113.txt\n10802.txt\n292.txt\n6419.txt\n21615.txt\n15333.txt\n13623.txt\n8329.txt\n21050.txt\n5403.txt\n2904.txt\n7657.txt\n30846.txt\n22711.txt\n18114.txt\n17110.txt\n11911.txt\n4972.txt\n22684.txt\n17264.txt\n16271.txt\n13087.txt\n6528.txt\n24578.txt\n20220.txt\n21795.txt\n22901.txt\n12207.txt\n22393.txt\n13634.txt\n3519.txt\n6266.txt\n29490.txt\n13897.txt\n14585.txt\n20686.txt\n22651.txt\n29004.txt\n17789.txt\n9883.txt\n85.txt\n22394.txt\n18150.txt\n32024.txt\n6761.txt\n2200.txt\n29746.txt\n32668.txt\n20782.txt\n25279.txt\n32672.txt\n567.txt\n10454.txt\n21400.txt\n22804.txt\n25261.txt\n2189.txt\n13805.txt\n1517.txt\n19805.txt\n15606.txt\n1980.txt\n25017.txt\n17253.txt\n18321.txt\n21229.txt\n25162.txt\n19121.txt\n11594.txt\n6336.txt\n1383.txt\n10893.txt\n22154.txt\n14825.txt\n23320.txt\n29155.txt\n8828.txt\n32539.txt\n14852.txt\n3280.txt\n20311.txt\n25634.txt\n11692.txt\n2386.txt\n10281.txt\n865.txt\n25698.txt\n12189.txt\n15000.txt\n5655.txt\n6938.txt\n6233.txt\n13985.txt\n26829.txt\n9978.txt\n7123.txt\n10828.txt\n25688.txt\n19010.txt\n18004.txt\n361.txt\n18414.txt\n12715.txt\n7596.txt\n22825.txt\n9366.txt\n7743.txt\n14839.txt\n30167.txt\n284.txt\n8781.txt\n23849.txt\n31267.txt\n24752.txt\n28981.txt\n6763.txt\n14254.txt\n1232.txt\n25639.txt\n19189.txt\n10533.txt\n26061.txt\n188.txt\n24878.txt\n2793.txt\n7028.txt\n28918.txt\n2974.txt\n378.txt\n15292.txt\n31619.txt\n26534.txt\n3645.txt\n3358.txt\n32263.txt\n2156.txt\n32129.txt\n20149.txt\n18614.txt\n6425.txt\n8166.txt\n20267.txt\n915.txt\n1916.txt\n19337.txt\n25058.txt\n13853.txt\n23328.txt\n31256.txt\n28986.txt\n26346.txt\n29660.txt\n4599.txt\n23890.txt\n5770.txt\n7487.txt\n19360.txt\n11429.txt\n17365.txt\n30928.txt\n8688.txt\n9416.txt\n26170.txt\n32283.txt\n1740.txt\n31447.txt\n14725.txt\n894.txt\n30720.txt\n29254.txt\n14565.txt\n7272.txt\n24518.txt\n20827.txt\n2677.txt\n2707.txt\n15438.txt\n17190.txt\n15523.txt\n14467.txt\n9152.txt\n9222.txt\n11294.txt\n13215.txt\n12852.txt\n6357.txt\n4117.txt\n10896.txt\n24591.txt\n22510.txt\n25598.txt\n14157.txt\n19667.txt\n12240.txt\n22247.txt\n28277.txt\n30784.txt\n9529.txt\n14432.txt\n14658.txt\n10892.txt\n25798.txt\n24452.txt\n27624.txt\n25960.txt\n2784.txt\n29629.txt\n21570.txt\n7716.txt\n21297.txt\n11337.txt\n22454.txt\n13543.txt\n28366.txt\n32234.txt\n9852.txt\n21479.txt\n28462.txt\n26329.txt\n14110.txt\n22351.txt\n20544.txt\n6120.txt\n10941.txt\n13618.txt\n20765.txt\n27540.txt\n12667.txt\n27617.txt\n23196.txt\n8369.txt\n21773.txt\n16049.txt\n1109.txt\n23392.txt\n17467.txt\n14764.txt\n10925.txt\n3182.txt\n17064.txt\n14879.txt\n1636.txt\n10370.txt\n15085.txt\n23594.txt\n3361.txt\n3068.txt\n18632.txt\n12773.txt\n2485.txt\n11215.txt\n18844.txt\n32265.txt\n10320.txt\n22787.txt\n13505.txt\n15187.txt\n4653.txt\n25930.txt\n11384.txt\n2008.txt\n32475.txt\n3350.txt\n3928.txt\n27531.txt\n18957.txt\n16328.txt\n23680.txt\n28557.txt\n10554.txt\n26963.txt\n23807.txt\n4049.txt\n17837.txt\n31509.txt\n5022.txt\n9389.txt\n970.txt\n21238.txt\n21065.txt\n8717.txt\n8253.TXT\n26035.txt\n2630.txt\n28532.txt\n13240.txt\n31366.txt\n27675.txt\n32440.txt\n327.txt\n11776.txt\n8750.txt\n29909.txt\n1910.txt\n3265.txt\n26019.txt\n25452.txt\n10659.txt\n25744.txt\n28233.txt\n11141.txt\n22672.txt\n12945.txt\n15476.txt\n3390.txt\n11432.txt\n13323.txt\n14229.txt\n23986.txt\n8242.txt\n12658.txt\n11006.txt\n3121.txt\n4370.txt\n149.txt\n4484.txt\n11572.txt\n22976.txt\n9976.txt\n9212.txt\n32691.txt\n12321.txt\n20182.txt\n30043.txt\n26580.txt\n3592.txt\n21001.txt\n4595.txt\n12234.txt\n16400.txt\n19116.txt\n32653.txt\n2358.txt\n26881.txt\n5884.txt\n28137.txt\n16483.txt\n25018.txt\n16094.txt\n19535.txt\n22233.txt\n22218.txt\n1139.txt\n8579.txt\n14823.txt\n4522.txt\n15542.txt\n8385.txt\n19312.txt\n5817.txt\n826.txt\n9214.txt\n425.txt\n24557.txt\n5800.txt\n24950.txt\n30655.txt\n29838.txt\n5670.txt\n30581.txt\n16822.txt\n30674.txt\n28629.txt\n29215.txt\n19362.txt\n17844.txt\n4506.txt\n9365.txt\n23007.txt\n18247.txt\n18685.txt\n16798.txt\n24082.txt\n24647.txt\n687.txt\n1122.txt\n12675.txt\n18620.txt\n27839.txt\n4780.txt\n30842.TXT\n18599.txt\n11155.txt\n11919.txt\n17792.txt\n21844.txt\n1674.txt\n14342.txt\n9507.txt\n32392.txt\n30422.txt\n7837.txt\n1262.txt\n15276.txt\n23429.txt\n12228.txt\n17908.txt\n20436.txt\n3086.txt\n282.txt\n14877.txt\n28423.txt\n27849.txt\n23648.txt\n11199.txt\n22654.txt\n27857.txt\n30732.txt\n15973.txt\n8666.txt\n26664.txt\n19729.txt\n16844.txt\n4770.txt\n21322.txt\n10631.txt\n9247.txt\n23803.txt\n16805.txt\n27655.txt\n18358.txt\n4988.txt\n13616.txt\n12628.txt\n14100.txt\n1387.txt\n22437.txt\n22837.txt\n23453.txt\n8408.txt\n9896.txt\n19910.txt\n12391.txt\n17573.txt\n170.txt\n15796.txt\n24090.txt\n18412.txt\n4172.txt\n25463.txt\n17818.txt\n12191.txt\n30797.txt\n17287.txt\n29999.txt\n12928.txt\n26146.txt\n22076.txt\n13851.txt\n25514.txt\n495.txt\n1479.txt\n26230.txt\n23160.txt\n2532.txt\n20624.txt\n21201.txt\n9491.txt\n3887.txt\n28190.txt\n6052.txt\n23980.txt\n19073.txt\n18125.txt\n11055.txt\n7131.txt\n13309.txt\n17629.txt\n8455.txt\n30601.txt\n8461.txt\n29404.txt\n5859.txt\n14795.txt\n19723.txt\n2598.txt\n32289.txt\n32752.txt\n3624.txt\n4193.txt\n25420.txt\n32318.txt\n13444.txt\n14310.txt\n26007.txt\n28124.txt\n14744.txt\n25543.txt\n18078.txt\n21921.txt\n8197.txt\n14091.txt\n25356.txt\n15183.txt\n23556.txt\n12205.txt\n2943.txt\n19483.txt\n18278.txt\n31319.txt\n8118.txt\n30627.txt\n31544.txt\n4968.txt\n31350.txt\n9484.txt\n12352.txt\n944.txt\n29090.txt\n9082.txt\n1046.txt\n8363.txt\n21375.txt\n32180.txt\n11147.txt\n10622.txt\n6783.txt\n4626.txt\n9799.txt\n795.txt\n31302.txt\n10789.txt\n25909.TXT\n20760.txt\n146.txt\n27448.txt\n7117.txt\n24780.txt\n2973.txt\n32325.txt\n24526.txt\n32421.txt\n24154.txt\n5345.txt\n21543.txt\n2051.txt\n2421.txt\n8751.txt\n20369.txt\n19029.txt\n13269.txt\n7885.txt\n4983.txt\n25152.txt\n6687.txt\n24283.txt\n26983.txt\n28775.txt\n26445.txt\n24684.txt\n4222.txt\n13472.txt\n2423.txt\n31010.txt\n8719.txt\n2534.txt\n18185.txt\n12924.txt\n26617.txt\n482.txt\n10969.txt\n3738.txt\n21923.txt\n3662.txt\n7366.txt\n28570.txt\n24383.txt\n11522.txt\n26304.txt\n11818.txt\n15501.txt\n1745.txt\n15607.txt\n13272.txt\n18116.txt\n23754.txt\n427.txt\n9437.txt\n20985.txt\n26076.txt\n4788.txt\n9048.txt\n15359.txt\n26770.txt\n7796.txt\n2961.txt\n26876.txt\n7014.txt\n5007.txt\n1695.txt\n12887.txt\n22041.txt\n14307.txt\n9569.txt\n3570.txt\n25376.txt\n4245.txt\n21586.txt\n16125.txt\n27453.txt\n13427.txt\n11314.txt\n30561.txt\n12949.txt\n20327.txt\n10324.txt\n16850.txt\n20559.txt\n22098.txt\n4993.txt\n6278.txt\n19565.txt\n7614.txt\n31736.txt\n6631.txt\n31989.txt\n4747.txt\n10662.txt\n11189.txt\n21030.txt\n13301.txt\n895.txt\n4615.txt\n5052.txt\n412.txt\n2577.txt\n7800.txt\n22992.txt\n4271.txt\n11044.txt\n29203.txt\n4882.txt\n27257.txt\n29905.txt\n1926.txt\n14749.txt\n28966.txt\n29964.txt\n4015.txt\n19759.txt\n15434.txt\n27056.txt\n27079.txt\n19118.txt\n18706.txt\n27403.txt\n18177.txt\n19826.txt\n17208.txt\n15082.txt\n17159.txt\n8475.txt\n9766.txt\n5513.txt\n6382.txt\n6424.txt\n1977.txt\n29826.txt\n30057.txt\n29.txt\n19603.txt\n24472.txt\n30703.txt\n31836.TXT\n24520.txt\n8901.txt\n12113.txt\n25244.txt\n16853.txt\n9049.txt\n9997.txt\n27013.txt\n20102.txt\n26191.txt\n26750.txt\n25676.txt\n12010.txt\n13729.txt\n3420.txt\n3451.txt\n11039.txt\n261.txt\n32033.txt\n9447.txt\n30147.txt\n5282.txt\n26029.txt\n3026.txt\n9842.txt\n1992.txt\n15768.txt\n22675.txt\n5886.txt\n15144.txt\n16190.txt\n8323.txt\n6389.txt\n16709.txt\n17878.txt\n20408.txt\n3116.txt\n5777.txt\n20049.txt\n8293.txt\n27246.txt\n24327.txt\n6526.txt\n22384.txt\n26996.txt\n13017.txt\n18090.txt\n27836.txt\n664.txt\n602.txt\n9922.txt\n6852.txt\n20258.txt\n5181.txt\n8145.txt\n12267.txt\n8125.txt\n22727.txt\n26677.txt\n15451.txt\n10837.txt\n15324.txt\n25288.txt\n20119.txt\n27962.txt\n14542.txt\n5916.txt\n6529.txt\n28226.txt\n32352.txt\n24695.txt\n12279.txt\n30873.txt\n6781.txt\n20932.txt\n14711.txt\n15040.txt\n9199.txt\n6341.txt\n5317.txt\n25576.txt\n12604.txt\n21429.txt\n18361.txt\n1589.txt\n11717.txt\n4379.txt\n25090.txt\n17184.txt\n6571.txt\n15048.txt\n17889.txt\n17350.txt\n1367.txt\n24829.txt\n6138.txt\n21933.txt\n21270.txt\n8391.txt\n27039.txt\n870.txt\n861.txt\n9147.txt\n25340.txt\n28881.txt\n11893.txt\n29058.txt\n18565.txt\n20110.txt\n21282.txt\n18478.txt\n23026.txt\n22485.txt\n27896.txt\n31466.txt\n16263.txt\n5.txt\n12638.txt\n20754.txt\n25909.txt\n5846.txt\n20460.txt\n4933.txt\n6505.txt\n7236.txt\n22583.txt\n29305.txt\n13823.txt\n9638.txt\n26127.txt\n7017.txt\n3556.txt\n20024.txt\n32743.txt\n5741.txt\n12514.txt\n23246.txt\n12720.txt\n29850.txt\n6735.txt\n30826.txt\n14526.txt\n24157.txt\n28255.txt\n28415.txt\n16319.txt\n10715.txt\n15642.txt\n22012.txt\n18189.txt\n31846.txt\n9129.txt\n22179.txt\n31308.txt\n15809.txt\n16209.txt\n7794.txt\n28082.txt\n19070.txt\n16024.txt\n20379.txt\n5935.txt\n1091.txt\n22297.txt\n18219.txt\n3572.txt\n27682.txt\n28822.txt\n22280.txt\n13131.txt\n1329.txt\n26692.txt\n4723.txt\n30715.txt\n16174.txt\n10663.txt\n16953.txt\n23215.txt\n17128.txt\n32302.txt\n19261.txt\n8302.txt\n13467.txt\n1940.txt\n19736.txt\n6826.txt\n857.txt\n12913.txt\n20973.txt\n21343.txt\n13758.txt\n26857.txt\n3473.txt\n31402.txt\n7444.txt\n23923.txt\n17807.txt\n23082.txt\n8383.txt\n12639.txt\n7029.txt\n14902.txt\n31018.txt\n13880.txt\n25751.txt\n11907.txt\n534.txt\n12130.txt\n10691.txt\n28345.txt\n19156.txt\n26696.txt\n3574.txt\n17655.txt\n28327.txt\n21700.txt\n4990.txt\n13717.txt\n25669.txt\n26373.txt\n9706.txt\n27743.txt\n23261.txt\n18459.txt\n28945.txt\n29920.txt\n22904.txt\n22754.txt\n31820.txt\n31590.txt\n8905.txt\n1406.txt\n12040.txt\n30001.txt\n24144.txt\n8482.txt\n21022.txt\n9739.txt\n20762.txt\n11781.txt\n3652.txt\n11601.txt\n18169.txt\n18218.txt\n30399.txt\n5891.txt\n31658.txt\n32320.txt\n8017.txt\n22420.txt\n11806.txt\n31843.txt\n8234.txt\n26838.txt\n31114.txt\n17593.txt\n31175.txt\n18713.txt\n27497.txt\n3196.txt\n29988.txt\n13586.txt\n20186.txt\n7541.txt\n27906.txt\n10724.txt\n6238.txt\n24599.txt\n8829.txt\n24964.txt\n10531.txt\n3858.txt\n18192.txt\n3155.txt\n18658.txt\n26905.txt\n16988.txt\n30148.txt\n26179.txt\n20771.txt\n32532.txt\n15543.txt\n11184.txt\n3400.txt\n1188.txt\n25750.txt\n30941.txt\n1781.txt\n20485.txt\n5955.txt\n28368.txt\n26125.txt\n16311.txt\n25414.txt\n15245.txt\n23575.txt\n20565.txt\n24960.txt\n29014.txt\n6086.txt\n19187.txt\n15936.txt\n20043.txt\n19815.txt\n15275.txt\n6370.txt\n13155.txt\n15390.txt\n31702.txt\n9938.txt\n27495.txt\n13847.TXT\n2591.txt\n13983.txt\n16129.txt\n11407.txt\n14776.txt\n19778.txt\n28540.txt\n32091.txt\n757.txt\n28316.txt\n15670.txt\n29839.txt\n21776.txt\n4917.txt\n15441.txt\n21117.txt\n2139.txt\n12214.txt\n1224.txt\n12669.txt\n24976.txt\n21378.txt\n29103.txt\n29353.txt\n27651.txt\n18805.txt\n27248.txt\n11696.txt\n16012.txt\n15799.txt\n6146.txt\n26503.txt\n32313.txt\n24864.txt\n9600.txt\n32310.txt\n20452.txt\n5404.txt\n8554.txt\n11726.txt\n18764.txt\n25902.txt\n1070.txt\n22055.txt\n20259.txt\n10695.txt\n9493.txt\n25359.txt\n23378.txt\n25311.txt\n1401.txt\n23447.txt\n23255.txt\n9124.txt\n451.txt\n30541.txt\n24563.txt\n11104.txt\n15422.txt\n9313.txt\n23589.txt\n29494.txt\n24414.txt\n23156.txt\n20840.txt\n31512.txt\n692.txt\n30504.txt\n2000.txt\n31795.txt\n27409.txt\n27182.txt\n31143.txt\n7956.txt\n27492.txt\n25840.txt\n32725.txt\n28618.txt\n29402.txt\n321.txt\n23756.txt\n31365.txt\n13996.txt\n5425.txt\n27186.txt\n26251.txt\n31788.txt\n6697.txt\n4744.txt\n7297.txt\n10525.txt\n6517.txt\n15880.txt\n3000.txt\n12729.txt\n2916.txt\n22817.txt\n4690.txt\n4889.txt\n25788.txt\n9340.txt\n7913.txt\n28640.txt\n13954.txt\n11680.txt\n1572.txt\n4308.txt\n7712.txt\n4796.txt\n4694.txt\n27798.txt\n28541.txt\n19923.txt\n11835.txt\n26926.txt\n1748.txt\n16011.txt\n17424.txt\n28969.txt\n13034.txt\n22377.txt\n1066.txt\n6843.txt\n29560.txt\n1948.txt\n16083.txt\n13831.txt\n4894.txt\n13530.txt\n22606.txt\n16150.txt\n31453.txt\n15071.txt\n4501.txt\n17150.txt\n12366.txt\n21909.txt\n30611.txt\n29721.txt\n22276.txt\n28500.txt\n19287.txt\n15274.txt\n27475.txt\n20336.txt\n11703.txt\n27583.txt\n10282.txt\n8758.txt\n16387.txt\n31865.txt\n11497.txt\n20606.txt\n9666.txt\n26053.txt\n3775.txt\n9170.txt\n15252.txt\n288.txt\n13723.txt\n15063.txt\n28696.txt\n7658.txt\n9980.txt\n15993.txt\n3634.txt\n88.txt\n31630.txt\n7612.txt\n4420.txt\n12480.txt\n16491.txt\n19260.txt\n23713.txt\n12606.txt\n25609.txt\n6792.txt\n15708.txt\n29700.txt\n25121.txt\n28503.txt\n19168.txt\n29759.txt\n28101.txt\n23332.txt\n28052.txt\n5067.txt\n32458.txt\n32701.txt\n28168.txt\n3134.txt\n31160.txt\n20146.txt\n9740.txt\n3140.txt\n20239.txt\n13407.txt\n20942.txt\n6516.txt\n13268.txt\n19980.txt\n6446.txt\n5245.txt\n28920.txt\n28743.txt\n32322.txt\n2663.txt\n20164.txt\n27119.txt\n17668.txt\n32049.txt\n6415.txt\n19730.txt\n13660.txt\n30605.txt\n"
    }
   ],
   "source": [
    "import os\n",
    "\n",
    "from pathlib import Path\n",
    "\n",
    "directory_in_str = \"Data/ST96/\"\n",
    "\n",
    "directory = os.fsencode(directory_in_str) \n",
    "\n",
    "columns = ['LICENCE NUMBER', 'PERMITTEE', 'SUBT CODE', 'PIPELINE FROM LOC', 'O.D. (MAX)', 'APPROVAL DATE', 'OPERATING KM', 'DATE']\n",
    "\n",
    "df = pd.DataFrame(columns=columns)\n",
    "\n",
    "ext = ['.txt','.TXT']\n",
    "\n",
    "for file in os.listdir(directory): \n",
    "    filename = os.fsdecode(file) \n",
    "    if filename.endswith(tuple(ext)):\n",
    "        print(filename) \n",
    "        data = parser(os.path.join(directory_in_str, filename))\n",
    "        df = df.append(data, ignore_index=True, sort=False)\n",
    "        continue \n",
    "    else: \n",
    "        continue"
   ]
  },
  {
   "cell_type": "code",
   "execution_count": 34,
   "metadata": {},
   "outputs": [
    {
     "output_type": "execute_result",
     "data": {
      "text/plain": "      LICENCE NUMBER                             PERMITTEE SUBT CODE  \\\n0              17610            BELLATRIX EXPLORATION LTD.        OE   \n1              18463          PEMBINA PIPELINE CORPORATION        CO   \n2              18511    CANADIAN NATURAL RESOURCES LIMITED        NG   \n3              21205    CANADIAN NATURAL RESOURCES LIMITED        SW   \n4              21806  CONOCOPHILLIPS CANADA RESOURCES CORP        NG   \n...              ...                                   ...       ...   \n76409          55860            LIGHTSTREAM RESOURCES LTD.        OE   \n76410          55866            LIGHTSTREAM RESOURCES LTD.        NG   \n76411          55890           CRESCENT POINT ENERGY CORP.        OE   \n76412          56015                 XTO ENERGY CANADA ULC        NG   \n76413          56016                   INDEPTH ENERGY INC.        NG   \n\n      PIPELINE FROM LOC O.D. (MAX) APPROVAL DATE OPERATING KM         DATE  \\\n0           35/047/08/5      88.90    2014-07-24         0.00  24 JUL 2014   \n1           33/047/10/5     168.30    2014-07-24         0.44  24 JUL 2014   \n2           34/050/02/4      88.90    2014-07-24         1.74  24 JUL 2014   \n3           34/050/02/4     130.00    2014-07-24         1.75  24 JUL 2014   \n4           07/029/08/4     114.30    2014-07-24         0.00  24 JUL 2014   \n...                 ...        ...           ...          ...          ...   \n76409       10/069/09/5     168.30    2014-03-17         5.21  17 MAR 2014   \n76410       10/069/09/5     114.30    2014-03-17        12.72  17 MAR 2014   \n76411       24/063/10/5     130.00    2014-03-17         3.30  17 MAR 2014   \n76412       27/059/19/5     219.10    2014-03-17         5.80  17 MAR 2014   \n76413       03/040/01/5      88.90    2014-03-17         0.23  17 MAR 2014   \n\n                    CODE  \n0      Oil Well Effluent  \n1              Crude Oil  \n2            Natural Gas  \n3             Salt Water  \n4            Natural Gas  \n...                  ...  \n76409  Oil Well Effluent  \n76410        Natural Gas  \n76411  Oil Well Effluent  \n76412        Natural Gas  \n76413        Natural Gas  \n\n[76414 rows x 9 columns]",
      "text/html": "<div>\n<style scoped>\n    .dataframe tbody tr th:only-of-type {\n        vertical-align: middle;\n    }\n\n    .dataframe tbody tr th {\n        vertical-align: top;\n    }\n\n    .dataframe thead th {\n        text-align: right;\n    }\n</style>\n<table border=\"1\" class=\"dataframe\">\n  <thead>\n    <tr style=\"text-align: right;\">\n      <th></th>\n      <th>LICENCE NUMBER</th>\n      <th>PERMITTEE</th>\n      <th>SUBT CODE</th>\n      <th>PIPELINE FROM LOC</th>\n      <th>O.D. (MAX)</th>\n      <th>APPROVAL DATE</th>\n      <th>OPERATING KM</th>\n      <th>DATE</th>\n      <th>CODE</th>\n    </tr>\n  </thead>\n  <tbody>\n    <tr>\n      <th>0</th>\n      <td>17610</td>\n      <td>BELLATRIX EXPLORATION LTD.</td>\n      <td>OE</td>\n      <td>35/047/08/5</td>\n      <td>88.90</td>\n      <td>2014-07-24</td>\n      <td>0.00</td>\n      <td>24 JUL 2014</td>\n      <td>Oil Well Effluent</td>\n    </tr>\n    <tr>\n      <th>1</th>\n      <td>18463</td>\n      <td>PEMBINA PIPELINE CORPORATION</td>\n      <td>CO</td>\n      <td>33/047/10/5</td>\n      <td>168.30</td>\n      <td>2014-07-24</td>\n      <td>0.44</td>\n      <td>24 JUL 2014</td>\n      <td>Crude Oil</td>\n    </tr>\n    <tr>\n      <th>2</th>\n      <td>18511</td>\n      <td>CANADIAN NATURAL RESOURCES LIMITED</td>\n      <td>NG</td>\n      <td>34/050/02/4</td>\n      <td>88.90</td>\n      <td>2014-07-24</td>\n      <td>1.74</td>\n      <td>24 JUL 2014</td>\n      <td>Natural Gas</td>\n    </tr>\n    <tr>\n      <th>3</th>\n      <td>21205</td>\n      <td>CANADIAN NATURAL RESOURCES LIMITED</td>\n      <td>SW</td>\n      <td>34/050/02/4</td>\n      <td>130.00</td>\n      <td>2014-07-24</td>\n      <td>1.75</td>\n      <td>24 JUL 2014</td>\n      <td>Salt Water</td>\n    </tr>\n    <tr>\n      <th>4</th>\n      <td>21806</td>\n      <td>CONOCOPHILLIPS CANADA RESOURCES CORP</td>\n      <td>NG</td>\n      <td>07/029/08/4</td>\n      <td>114.30</td>\n      <td>2014-07-24</td>\n      <td>0.00</td>\n      <td>24 JUL 2014</td>\n      <td>Natural Gas</td>\n    </tr>\n    <tr>\n      <th>...</th>\n      <td>...</td>\n      <td>...</td>\n      <td>...</td>\n      <td>...</td>\n      <td>...</td>\n      <td>...</td>\n      <td>...</td>\n      <td>...</td>\n      <td>...</td>\n    </tr>\n    <tr>\n      <th>76409</th>\n      <td>55860</td>\n      <td>LIGHTSTREAM RESOURCES LTD.</td>\n      <td>OE</td>\n      <td>10/069/09/5</td>\n      <td>168.30</td>\n      <td>2014-03-17</td>\n      <td>5.21</td>\n      <td>17 MAR 2014</td>\n      <td>Oil Well Effluent</td>\n    </tr>\n    <tr>\n      <th>76410</th>\n      <td>55866</td>\n      <td>LIGHTSTREAM RESOURCES LTD.</td>\n      <td>NG</td>\n      <td>10/069/09/5</td>\n      <td>114.30</td>\n      <td>2014-03-17</td>\n      <td>12.72</td>\n      <td>17 MAR 2014</td>\n      <td>Natural Gas</td>\n    </tr>\n    <tr>\n      <th>76411</th>\n      <td>55890</td>\n      <td>CRESCENT POINT ENERGY CORP.</td>\n      <td>OE</td>\n      <td>24/063/10/5</td>\n      <td>130.00</td>\n      <td>2014-03-17</td>\n      <td>3.30</td>\n      <td>17 MAR 2014</td>\n      <td>Oil Well Effluent</td>\n    </tr>\n    <tr>\n      <th>76412</th>\n      <td>56015</td>\n      <td>XTO ENERGY CANADA ULC</td>\n      <td>NG</td>\n      <td>27/059/19/5</td>\n      <td>219.10</td>\n      <td>2014-03-17</td>\n      <td>5.80</td>\n      <td>17 MAR 2014</td>\n      <td>Natural Gas</td>\n    </tr>\n    <tr>\n      <th>76413</th>\n      <td>56016</td>\n      <td>INDEPTH ENERGY INC.</td>\n      <td>NG</td>\n      <td>03/040/01/5</td>\n      <td>88.90</td>\n      <td>2014-03-17</td>\n      <td>0.23</td>\n      <td>17 MAR 2014</td>\n      <td>Natural Gas</td>\n    </tr>\n  </tbody>\n</table>\n<p>76414 rows × 9 columns</p>\n</div>"
     },
     "metadata": {},
     "execution_count": 34
    }
   ],
   "source": [
    "df"
   ]
  },
  {
   "cell_type": "code",
   "execution_count": 35,
   "metadata": {},
   "outputs": [],
   "source": [
    "#Export to CSV\n",
    "df.to_csv(r'ST96-Historical.csv', index = False)"
   ]
  },
  {
   "cell_type": "code",
   "execution_count": null,
   "metadata": {},
   "outputs": [],
   "source": []
  }
 ],
 "metadata": {
  "kernelspec": {
   "display_name": "Python 3",
   "language": "python",
   "name": "python3"
  },
  "language_info": {
   "codemirror_mode": {
    "name": "ipython",
    "version": 3
   },
   "file_extension": ".py",
   "mimetype": "text/x-python",
   "name": "python",
   "nbconvert_exporter": "python",
   "pygments_lexer": "ipython3",
   "version": "3.7.6-final"
  }
 },
 "nbformat": 4,
 "nbformat_minor": 4
}