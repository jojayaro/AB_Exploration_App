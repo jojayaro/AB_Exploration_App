{
 "cells": [
  {
   "cell_type": "code",
   "execution_count": 1,
   "metadata": {},
   "outputs": [],
   "source": [
    "import re\n",
    "import pandas as pd"
   ]
  },
  {
   "cell_type": "code",
   "execution_count": 2,
   "metadata": {},
   "outputs": [],
   "source": [
    "def parser(file):\n",
    "    \n",
    "    #HTML to Dataframe and Lat/Long Conversion\n",
    "    data1 = pd.read_html(file, header=0)[2]\n",
    "    \n",
    "    data1['ATS'] = data1['Location  LE/LSD-SEC-TWP-RGEWM'].str.replace(r'[^0-9]+', '')\n",
    "    data1['ATS'] = data1['ATS'].str[-8:]\n",
    "    data1['ATS'] = data1['ATS'].astype('int64')\n",
    "\n",
    "    #Extract Date\n",
    "    lines = []\n",
    "    with open(file, 'r') as file:\n",
    "        for line in file:\n",
    "            lines.append(line.rstrip('\\n'))\n",
    "\n",
    "    Date = (re.split('[\\s]{4,}', lines[21].strip()))\n",
    "    Date = Date[0]\n",
    "    Date = Date.replace('Date:', '')\n",
    "    Date = Date.replace('</b></td>', '')\n",
    "    data1['DATE'] = Date\n",
    "\n",
    "    convcomp = pd.read_csv('ConvComp.csv')\n",
    "    convcomp['ConvDF'] = convcomp['ConvDF'].astype('int64')\n",
    "    dfm = pd.merge(data1, convcomp, how='left', left_on='ATS', right_on='ConvDF')\n",
    "\n",
    "    return dfm"
   ]
  },
  {
   "cell_type": "code",
   "execution_count": 3,
   "metadata": {
    "tags": []
   },
   "outputs": [
    {
     "output_type": "stream",
     "name": "stdout",
     "text": "24473.html\n9338.html\n18154.html\n5374.html\n4831.html\n28005.html\n21406.html\n22825.html\n20084.html\n27349.html\n26810.html\n1090.html\n13322.html\n12825.html\n9682.html\n26729.html\n6316.html\n11652.html\n28104.html\n3912.html\n3535.html\n24544.html\n22889.html\n6409.html\n12050.html\n3119.html\n31045.html\n27282.html\n20172.html\n21148.html\n16074.html\n29108.html\n1925.html\n6168.html\n1402.html\n12188.html\n15545.html\n9768.html\n16618.html\n19045.html\n8695.html\n16306.html\n3678.html\n7464.html\n31360.html\n6472.html\n6077.html\n26611.html\n20699.html\n19965.html\n7379.html\n28310.html\n7864.html\n23560.html\n11215.html\n22219.html\n16950.html\n11745.html\n16922.html\n10966.html\n10814.html\n5343.html\n23022.html\n1140.html\n2199.html\n9389.html\n3841.html\n30809.html\n22247.html\n31061.html\n28487.html\n25183.html\n27255.html\n14124.html\n11805.html\n1478.html\n20690.html\n32730.html\n21467.html\n22385.html\n10079.html\n25862.html\n5787.html\n4589.html\n5793.html\n27833.html\n4199.html\n18180.html\n30585.html\n31108.html\n28961.html\n32027.html\n17784.html\n15562.html\n2812.html\n25182.html\n9300.html\n1033.html\n31763.html\n3301.html\n22033.html\n22066.html\n2124.html\n23783.html\n28013.html\n29899.html\n15986.html\n19306.html\n2114.html\n20345.html\n17020.html\n32343.html\n10224.html\n20537.html\n3030.html\n17550.html\n7672.html\n9607.html\n10316.html\n1042.html\n7316.html\n21383.html\n13785.html\n21488.html\n101.html\n10690.html\n27771.html\n4516.html\n17527.html\n17846.html\n23663.html\n24008.html\n32442.html\n17877.html\n5664.html\n8759.html\n8274.html\n22106.html\n28043.html\n6341.html\n2120.html\n32225.html\n32649.html\n27822.html\n6420.html\n2970.html\n686.html\n17778.html\n704.html\n26499.html\n23751.html\n4320.html\n10923.html\n11414.html\n31886.html\n27638.html\n21620.html\n29845.html\n23376.html\n4783.html\n11733.html\n19334.html\n10471.html\n3821.html\n20024.html\n17932.html\n13015.html\n14558.html\n17524.html\n30562.html\n1115.html\n16040.html\n649.html\n501.html\n16339.html\n20974.html\n32088.html\n25629.html\n22471.html\n8890.html\n9763.html\n1532.html\n9992.html\n31235.html\n4429.html\n4820.html\n14239.html\n24104.html\n8822.html\n30579.html\n22578.html\n11405.html\n18818.html\n21651.html\n32547.html\n6408.html\n26480.html\n17499.html\n13808.html\n16888.html\n5665.html\n30441.html\n14887.html\n498.html\n16907.html\n26918.html\n24618.html\n28299.html\n28985.html\n31663.html\n11709.html\n9754.html\n18310.html\n13855.html\n31618.html\n4383.html\n13049.html\n9151.html\n25167.html\n492.html\n13541.html\n6034.html\n26167.html\n27407.html\n3689.html\n18096.html\n15036.html\n26803.html\n14945.html\n12384.html\n13546.html\n9630.html\n31592.html\n16563.html\n30236.html\n11306.html\n10304.html\n9407.html\n8432.html\n19288.html\n12242.html\n13738.html\n27541.html\n19225.html\n27008.html\n4825.html\n7859.html\n31216.html\n20611.html\n22228.html\n9124.html\n19519.html\n3299.html\n27143.html\n10551.html\n22506.html\n10760.html\n17730.html\n20119.html\n10555.html\n5059.html\n32738.html\n7834.html\n27762.html\n3774.html\n1931.html\n32711.html\n25452.html\n7067.html\n18419.html\n10811.html\n31358.html\n17085.html\n16013.html\n14969.html\n30597.html\n20718.html\n7253.html\n16689.html\n3853.html\n5493.html\n29012.html\n26221.html\n5874.html\n1782.html\n8737.html\n4453.html\n32080.html\n1725.html\n8708.html\n10126.html\n16919.html\n4686.html\n6697.html\n30235.html\n4257.html\n1341.html\n24819.html\n17153.html\n32182.html\n24569.html\n9201.html\n8372.html\n29756.html\n23160.html\n14597.html\n18402.html\n11659.html\n5304.html\n9691.html\n25624.html\n17257.html\n25409.html\n16069.html\n32760.html\n28436.html\n6092.html\n886.html\n27589.html\n13315.html\n31716.html\n15433.html\n23553.html\n3554.html\n17961.html\n14524.html\n30926.html\n18168.html\n10123.html\n30964.html\n31374.html\n17299.html\n18981.html\n21339.html\n17972.html\n28557.html\n27658.html\n13074.html\n27030.html\n8085.html\n16526.html\n24002.html\n27819.html\n24588.html\n18145.html\n28052.html\n11437.html\n24755.html\n14139.html\n2789.html\n28986.html\n27196.html\n4367.html\n7430.html\n11339.html\n17532.html\n15946.html\n10365.html\n13898.html\n17219.html\n31776.html\n17625.html\n5937.html\n30360.html\n5788.html\n30293.html\n22197.html\n18172.html\n13921.html\n3825.html\n32606.html\n11163.html\n11683.html\n4276.html\n893.html\n28406.html\n10228.html\n11689.html\n23808.html\n1138.html\n26354.html\n8327.html\n24515.html\n18543.html\n17125.html\n7700.html\n5810.html\n11333.html\n23984.html\n26547.html\n28538.html\n5307.html\n4773.html\n10508.html\n10953.html\n32227.html\n9739.html\n30314.html\n21019.html\n27273.html\n17263.html\n7719.html\n29841.html\n486.html\n7712.html\n27694.html\n13143.html\n13142.html\n22640.html\n19618.html\n27857.html\n14225.html\n28404.html\n24206.html\n3563.html\n7971.html\n8297.html\n8244.html\n2103.html\n20754.html\n16513.html\n22807.html\n6061.html\n16674.html\n13294.html\n9840.html\n27897.html\n31862.html\n6154.html\n7652.html\n3089.html\n19216.html\n18747.html\n25907.html\n2492.html\n8764.html\n10207.html\n11938.html\n18320.html\n4770.html\n13979.html\n24919.html\n23550.html\n19817.html\n27764.html\n3228.html\n1280.html\n10586.html\n7087.html\n19175.html\n10640.html\n1800.html\n24147.html\n21950.html\n27165.html\n12279.html\n4028.html\n26872.html\n18295.html\n27610.html\n7754.html\n19479.html\n23472.html\n9380.html\n5484.html\n31647.html\n6151.html\n11978.html\n28606.html\n9038.html\n27753.html\n13659.html\n14782.html\n19889.html\n29777.html\n5340.html\n31681.html\n31219.html\n16800.html\n521.html\n17642.html\n29396.html\n2362.html\n24958.html\n295.html\n1326.html\n32092.html\n30353.html\n18646.html\n21421.html\n31892.html\n24730.html\n780.html\n4101.html\n1184.html\n9250.html\n8855.html\n11582.html\n12396.html\n18104.html\n13526.html\n30902.html\n9779.html\n16517.html\n21919.html\n30389.html\n8976.html\n1205.html\n28199.html\n21704.html\n8193.html\n16087.html\n17666.html\n1387.html\n22315.html\n11096.html\n5456.html\n11790.html\n26555.html\n8370.html\n30638.html\n1309.html\n1448.html\n23852.html\n5029.html\n27021.html\n171.html\n9429.html\n28115.html\n20011.html\n30119.html\n19800.html\n31439.html\n14324.html\n8213.html\n3713.html\n669.html\n1678.html\n27555.html\n23755.html\n25507.html\n27562.html\n21086.html\n27006.html\n6065.html\n5419.html\n4771.html\n22830.html\n3172.html\n9911.html\n19423.html\n1398.html\n15399.html\n23178.html\n30456.html\n15063.html\n6348.html\n1392.html\n18630.html\n26622.html\n12505.html\n7928.html\n7210.html\n121.html\n15588.html\n16332.html\n24472.html\n1880.html\n4841.html\n1225.html\n25764.html\n9981.html\n23081.html\n17732.html\n19561.html\n14306.html\n18356.html\n28752.html\n31578.html\n16016.html\n23575.html\n18905.html\n19527.html\n21328.html\n12320.html\n28975.html\n22665.html\n25405.html\n24591.html\n32705.html\n8630.html\n20208.html\n24247.html\n8191.html\n26192.html\n2469.html\n30204.html\n6623.html\n633.html\n17194.html\n20674.html\n19190.html\n13543.html\n4885.html\n17489.html\n13210.html\n2609.html\n22148.html\n18909.html\n21392.html\n8365.html\n10431.html\n14859.html\n19161.html\n7591.html\n2215.html\n32602.html\n5035.html\n13116.html\n13851.html\n9902.html\n20541.html\n15877.html\n792.html\n24328.html\n2296.html\n23168.html\n25036.html\n8197.html\n5001.html\n24747.html\n9280.html\n14300.html\n12199.html\n13450.html\n11253.html\n3230.html\n8852.html\n12086.html\n2701.html\n22628.html\n11367.html\n23130.html\n25835.html\n31652.html\n22275.html\n1865.html\n4690.html\n7245.html\n5344.html\n17998.html\n16309.html\n12444.html\n23670.html\n14256.html\n14555.html\n9880.html\n7409.html\n19608.html\n3143.html\n763.html\n8425.html\n25799.html\n14647.html\n29394.html\n28007.html\n13893.html\n19206.html\n27017.html\n8770.html\n17340.html\n19596.html\n27094.html\n31610.html\n9177.html\n8371.html\n15542.html\n13533.html\n21465.html\n27936.html\n12585.html\n24025.html\n9402.html\n21613.html\n20133.html\n24952.html\n12566.html\n28057.html\n22666.html\n24282.html\n29915.html\n1382.html\n12690.html\n5081.html\n4348.html\n27209.html\n4328.html\n3077.html\n24021.html\n31850.html\n352.html\n30959.html\n19392.html\n11898.html\n29621.html\n10481.html\n31871.html\n18276.html\n22753.html\n28390.html\n15666.html\n17328.html\n9090.html\n3379.html\n980.html\n4381.html\n7426.html\n5323.html\n21368.html\n1271.html\n20134.html\n2001.html\n20882.html\n5426.html\n21848.html\n32034.html\n18834.html\n27479.html\n18410.html\n12362.html\n14286.html\n15730.html\n2624.html\n14014.html\n130.html\n14943.html\n8513.html\n12541.html\n904.html\n27155.html\n94.html\n12010.html\n6429.html\n6699.html\n7837.html\n27950.html\n5801.html\n25925.html\n21772.html\n20671.html\n961.html\n28817.html\n27740.html\n19073.html\n24980.html\n9011.html\n13685.html\n26842.html\n23576.html\n15520.html\n532.html\n19368.html\n14337.html\n25795.html\n26220.html\n4823.html\n30326.html\n27760.html\n6380.html\n19041.html\n14504.html\n14563.html\n3216.html\n17004.html\n10585.html\n21519.html\n2881.html\n30158.html\n19109.html\n5129.html\n19996.html\n22331.html\n3297.html\n30629.html\n14843.html\n14483.html\n14012.html\n1124.html\n6994.html\n13993.html\n31896.html\n20747.html\n3921.html\n23843.html\n20646.html\n18756.html\n31303.html\n31365.html\n1317.html\n28770.html\n27350.html\n23281.html\n28016.html\n28595.html\n4368.html\n7957.html\n17224.html\n17390.html\n6805.html\n5308.html\n417.html\n24383.html\n21732.html\n32256.html\n6080.html\n4784.html\n31273.html\n21678.html\n3739.html\n23522.html\n19864.html\n18218.html\n16804.html\n4326.html\n24969.html\n2819.html\n9540.html\n17305.html\n3942.html\n30764.html\n28979.html\n17519.html\n14016.html\n19372.html\n14550.html\n14607.html\n12196.html\n7970.html\n10096.html\n12682.html\n25491.html\n1537.html\n9837.html\n12882.html\n26795.html\n5393.html\n18935.html\n1598.html\n14148.html\n16111.html\n11629.html\n4835.html\n27514.html\n30891.html\n23221.html\n20435.html\n29928.html\n15053.html\n26916.html\n14422.html\n11086.html\n20821.html\n29154.html\n19164.html\n29981.html\n20724.html\n6684.html\n8905.html\n22182.html\n21443.html\n21580.html\n19244.html\n6060.html\n16681.html\n22302.html\n4960.html\n17034.html\n10350.html\n19845.html\n14564.html\n22502.html\n13309.html\n21042.html\n17660.html\n28359.html\n28385.html\n12182.html\n10624.html\n4740.html\n15004.html\n5855.html\n5631.html\n3583.html\n30140.html\n14676.html\n20332.html\n11704.html\n24276.html\n7283.html\n12226.html\n1576.html\n32332.html\n5258.html\n1718.html\n16017.html\n10068.html\n25369.html\n30603.html\n30300.html\n24606.html\n7961.html\n1165.html\n21271.html\n15612.html\n4192.html\n12435.html\n13944.html\n20458.html\n28070.html\n5819.html\n23319.html\n23815.html\n31659.html\n18717.html\n24575.html\n28352.html\n31585.html\n16452.html\n22553.html\n18223.html\n575.html\n10518.html\n2765.html\n18124.html\n16658.html\n21970.html\n10038.html\n27835.html\n22062.html\n32558.html\n31422.html\n6070.html\n11769.html\n27288.html\n26088.html\n7736.html\n20466.html\n6172.html\n10911.html\n14765.html\n12754.html\n6321.html\n6458.html\n7118.html\n4713.html\n10168.html\n28948.html\n1807.html\n16274.html\n9883.html\n30008.html\n25515.html\n12559.html\n18700.html\n22212.html\n1008.html\n21145.html\n5457.html\n23836.html\n5096.html\n4737.html\n20965.html\n18890.html\n21025.html\n12447.html\n8978.html\n28496.html\n2489.html\n12702.html\n12562.html\n240.html\n28588.html\n6888.html\n6828.html\n32148.html\n11516.html\n6504.html\n6196.html\n11285.html\n218.html\n9418.html\n10035.html\n2244.html\n16845.html\n4947.html\n19727.html\n19570.html\n17510.html\n1166.html\n23316.html\n4624.html\n20565.html\n8618.html\n1238.html\n6563.html\n12181.html\n26649.html\n20888.html\n14881.html\n23650.html\n1812.html\n8530.html\n3701.html\n12686.html\n18840.html\n27735.html\n22251.html\n21405.html\n27319.html\n30870.html\n30590.html\n13132.html\n979.html\n30197.html\n2213.html\n17339.html\n15287.html\n11843.html\n17026.html\n15632.html\n10411.html\n13082.html\n27418.html\n14871.html\n5410.html\n26494.html\n10858.html\n13165.html\n1680.html\n22207.html\n1499.html\n24934.html\n28235.html\n29253.html\n7280.html\n14872.html\n26483.html\n2938.html\n25352.html\n31809.html\n28106.html\n18778.html\n13756.html\n9722.html\n9526.html\n808.html\n19594.html\n3106.html\n25788.html\n3169.html\n5144.html\n17220.html\n6150.html\n17101.html\n19211.html\n12625.html\n7962.html\n19429.html\n5334.html\n10989.html\n1086.html\n21692.html\n29558.html\n17054.html\n23066.html\n16460.html\n28751.html\n587.html\n27682.html\n21090.html\n18439.html\n20797.html\n19273.html\n15888.html\n29236.html\n21313.html\n18020.html\n4993.html\n13439.html\n14280.html\n25317.html\n29329.html\n21797.html\n14982.html\n15907.html\n30147.html\n28545.html\n1089.html\n10152.html\n26781.html\n6727.html\n31461.html\n25665.html\n6050.html\n25347.html\n7201.html\n7275.html\n23436.html\n11322.html\n17344.html\n5955.html\n28995.html\n22368.html\n8955.html\n2110.html\n25948.html\n25332.html\n29362.html\n16465.html\n9827.html\n4719.html\n23483.html\n25149.html\n24634.html\n14172.html\n28718.html\n2932.html\n19837.html\n19431.html\n10270.html\n28801.html\n18293.html\n4425.html\n11692.html\n31636.html\n14318.html\n3631.html\n1493.html\n27607.html\n14853.html\n31953.html\n8715.html\n13311.html\n19142.html\n6585.html\n1835.html\n6919.html\n20847.html\n31799.html\n32366.html\n32403.html\n11267.html\n23229.html\n6945.html\n29839.html\n4190.html\n10399.html\n23719.html\n17290.html\n26651.html\n7599.html\n2032.html\n20410.html\n27728.html\n30975.html\n18088.html\n9403.html\n13324.html\n16661.html\n66.html\n25330.html\n25384.html\n2083.html\n21529.html\n32670.html\n4437.html\n11178.html\n16446.html\n1485.html\n4840.html\n10340.html\n1957.html\n22937.html\n25128.html\n29734.html\n8341.html\n31423.html\n26371.html\n2954.html\n5382.html\n12249.html\n984.html\n11069.html\n6311.html\n28062.html\n31567.html\n6905.html\n25791.html\n4426.html\n15338.html\n22174.html\n23373.html\n7511.html\n22128.html\n776.html\n29726.html\n3044.html\n11330.html\n19325.html\n395.html\n29021.html\n8698.html\n31340.html\n11491.html\n19250.html\n10926.html\n24695.html\n26398.html\n12159.html\n10464.html\n8614.html\n22253.html\n4395.html\n31272.html\n20748.html\n15965.html\n1543.html\n5641.html\n17095.html\n25456.html\n69.html\n25288.html\n551.html\n5422.html\n19242.html\n27304.html\n8326.html\n2218.html\n12106.html\n25584.html\n21827.html\n4303.html\n21441.html\n6630.html\n523.html\n10880.html\n2029.html\n26640.html\n12259.html\n26206.html\n1885.html\n14238.html\n3772.html\n4483.html\n31042.html\n8883.html\n19231.html\n20171.html\n30096.html\n25381.html\n28313.html\n8105.html\n30345.html\n10738.html\n4317.html\n14818.html\n10824.html\n6366.html\n3577.html\n31498.html\n13706.html\n3387.html\n13000.html\n20409.html\n29216.html\n20035.html\n18483.html\n15864.html\n1221.html\n6572.html\n16047.html\n7998.html\n1709.html\n11755.html\n12933.html\n9066.html\n6753.html\n18007.html\n4812.html\n23372.html\n1189.html\n28854.html\n24424.html\n20582.html\n4197.html\n8965.html\n8781.html\n13400.html\n5016.html\n22722.html\n23504.html\n5578.html\n9922.html\n30301.html\n22605.html\n4747.html\n3745.html\n19354.html\n29455.html\n12931.html\n6537.html\n7760.html\n17559.html\n6167.html\n22577.html\n25422.html\n4755.html\n14660.html\n1778.html\n21980.html\n4696.html\n9136.html\n19239.html\n6868.html\n12294.html\n18694.html\n25494.html\n24036.html\n22080.html\n6010.html\n20272.html\n21309.html\n16539.html\n9117.html\n511.html\n9613.html\n29714.html\n10511.html\n25029.html\n22886.html\n24131.html\n4238.html\n8554.html\n476.html\n17394.html\n21516.html\n4187.html\n15842.html\n30969.html\n27038.html\n4250.html\n9061.html\n6219.html\n16877.html\n1932.html\n17607.html\n26465.html\n15416.html\n9029.html\n27170.html\n15591.html\n25698.html\n15255.html\n26126.html\n10922.html\n9119.html\n4206.html\n13726.html\n30966.html\n7270.html\n11433.html\n18330.html\n9888.html\n3373.html\n23508.html\n9697.html\n18076.html\n30167.html\n19703.html\n16980.html\n29885.html\n11250.html\n28003.html\n13615.html\n16611.html\n21002.html\n28743.html\n10241.html\n20743.html\n25692.html\n3334.html\n21353.html\n14290.html\n31820.html\n19680.html\n2528.html\n19065.html\n18972.html\n30665.html\n28943.html\n29297.html\n455.html\n5754.html\n4046.html\n32745.html\n664.html\n17687.html\n15140.html\n26458.html\n12083.html\n5361.html\n27758.html\n18589.html\n29794.html\n"
    }
   ],
   "source": [
    "import os\n",
    "\n",
    "from pathlib import Path\n",
    "\n",
    "directory_in_str = \"Data/ST97/\"\n",
    "\n",
    "directory = os.fsencode(directory_in_str) \n",
    "\n",
    "columns = ['Licensee Name', 'Application Number', 'Application Purpose',\n",
    "       'Category Type Description', 'Location  LE/LSD-SEC-TWP-RGEWM',\n",
    "       'Licence  Number', 'ATS', 'ConvDF', 'Lat', 'Long', 'DATE']\n",
    "\n",
    "df = pd.DataFrame(columns=columns)\n",
    "\n",
    "ext = ['.html','.HTML']\n",
    "\n",
    "for file in os.listdir(directory): \n",
    "    filename = os.fsdecode(file) \n",
    "    if filename.endswith(tuple(ext)):\n",
    "        print(filename)\n",
    "        data = parser(os.path.join(directory_in_str, filename))\n",
    "        df = df.append(data, ignore_index=True, sort=False)\n",
    "        continue \n",
    "    else: \n",
    "        continue"
   ]
  },
  {
   "cell_type": "code",
   "execution_count": 4,
   "metadata": {},
   "outputs": [
    {
     "output_type": "execute_result",
     "data": {
      "text/plain": "                           Licensee Name Application Number  \\\n0     Canadian Natural Resources Limited            1912301   \n1     Canadian Natural Resources Limited            1912308   \n2                High Ground Energy Inc.            1912295   \n3           Husky Oil Operations Limited            1912271   \n4                      Karve Energy Inc.            1912335   \n...                                  ...                ...   \n8063                Obsidian Energy Ltd.            1899691   \n8064          Tamarack Acquisition Corp.            1902485   \n8065                Tourmaline Oil Corp.            1902439   \n8066                  Velvet Energy Ltd.            1902405   \n8067              Outlier Resources Ltd.            1920457   \n\n     Application Purpose                          Category Type Description  \\\n0            New Licence  Gas battery - multiwell < 0.01 mol/kmol H2S in...   \n1            New Licence  Bitumen battery - multiwell < 0.01 mol/kmol H2...   \n2            New Licence  Gas battery - multiwell < 0.01 mol/kmol H2S in...   \n3            New Licence  Gas battery - multiwell < 0.01 mol/kmol H2S in...   \n4            New Licence  Oil battery - multiwell < 0.01 mol/kmol H2S in...   \n...                  ...                                                ...   \n8063   Licence Amendment  Bitumen battery - multiwell < 1 t/d sulphur inlet   \n8064   Licence Amendment  Oil battery - multiwell < 0.01 mol/kmol H2S in...   \n8065   Licence Amendment  Gas battery - multiwell < 0.01 mol/kmol H2S in...   \n8066         New Licence  Gas battery - multiwell < 0.01 mol/kmol H2S in...   \n8067         New Licence  Oil battery - multiwell < 0.01 mol/kmol H2S in...   \n\n     Location  LE/LSD-SEC-TWP-RGEWM Licence  Number       ATS    ConvDF  \\\n0                 00/09-09-062-24W4           50864   9062244   9062244   \n1                 02/04-13-061-02W4           50858  13061024  13061024   \n2                 00/09-17-035-04W4           50859  17035044  17035044   \n3                 00/14-30-063-06W6           50863  30063066  30063066   \n4                 00/12-04-036-08W4           50866   4036084   4036084   \n...                             ...             ...       ...       ...   \n8063              00/16-13-082-18W5           49260  13082185  13082185   \n8064              02/15-20-034-08W4            4624  20034084  20034084   \n8065              00/04-24-058-02W6           49237  24058026  24058026   \n8066              00/13-07-049-12W5           50244   7049125   7049125   \n8067              00/01-05-061-17W5           51414   5061175   5061175   \n\n            Lat        Long              DATE  \n0     54.348457 -113.525598    14 August 2018  \n1     54.275137 -110.155540    14 August 2018  \n2     52.004718 -110.528929    14 August 2018  \n3     54.479880 -118.881409    14 August 2018  \n4     52.063044 -111.076440    14 August 2018  \n...         ...         ...               ...  \n8063  56.109001 -116.663502  15 November 2017  \n8064  51.932748 -111.091861  15 November 2017  \n8065  54.028538 -118.148930  15 November 2017  \n8066  53.214185 -115.732641  15 November 2017  \n8067  54.246899 -116.501581     23 April 2019  \n\n[8068 rows x 11 columns]",
      "text/html": "<div>\n<style scoped>\n    .dataframe tbody tr th:only-of-type {\n        vertical-align: middle;\n    }\n\n    .dataframe tbody tr th {\n        vertical-align: top;\n    }\n\n    .dataframe thead th {\n        text-align: right;\n    }\n</style>\n<table border=\"1\" class=\"dataframe\">\n  <thead>\n    <tr style=\"text-align: right;\">\n      <th></th>\n      <th>Licensee Name</th>\n      <th>Application Number</th>\n      <th>Application Purpose</th>\n      <th>Category Type Description</th>\n      <th>Location  LE/LSD-SEC-TWP-RGEWM</th>\n      <th>Licence  Number</th>\n      <th>ATS</th>\n      <th>ConvDF</th>\n      <th>Lat</th>\n      <th>Long</th>\n      <th>DATE</th>\n    </tr>\n  </thead>\n  <tbody>\n    <tr>\n      <th>0</th>\n      <td>Canadian Natural Resources Limited</td>\n      <td>1912301</td>\n      <td>New Licence</td>\n      <td>Gas battery - multiwell &lt; 0.01 mol/kmol H2S in...</td>\n      <td>00/09-09-062-24W4</td>\n      <td>50864</td>\n      <td>9062244</td>\n      <td>9062244</td>\n      <td>54.348457</td>\n      <td>-113.525598</td>\n      <td>14 August 2018</td>\n    </tr>\n    <tr>\n      <th>1</th>\n      <td>Canadian Natural Resources Limited</td>\n      <td>1912308</td>\n      <td>New Licence</td>\n      <td>Bitumen battery - multiwell &lt; 0.01 mol/kmol H2...</td>\n      <td>02/04-13-061-02W4</td>\n      <td>50858</td>\n      <td>13061024</td>\n      <td>13061024</td>\n      <td>54.275137</td>\n      <td>-110.155540</td>\n      <td>14 August 2018</td>\n    </tr>\n    <tr>\n      <th>2</th>\n      <td>High Ground Energy Inc.</td>\n      <td>1912295</td>\n      <td>New Licence</td>\n      <td>Gas battery - multiwell &lt; 0.01 mol/kmol H2S in...</td>\n      <td>00/09-17-035-04W4</td>\n      <td>50859</td>\n      <td>17035044</td>\n      <td>17035044</td>\n      <td>52.004718</td>\n      <td>-110.528929</td>\n      <td>14 August 2018</td>\n    </tr>\n    <tr>\n      <th>3</th>\n      <td>Husky Oil Operations Limited</td>\n      <td>1912271</td>\n      <td>New Licence</td>\n      <td>Gas battery - multiwell &lt; 0.01 mol/kmol H2S in...</td>\n      <td>00/14-30-063-06W6</td>\n      <td>50863</td>\n      <td>30063066</td>\n      <td>30063066</td>\n      <td>54.479880</td>\n      <td>-118.881409</td>\n      <td>14 August 2018</td>\n    </tr>\n    <tr>\n      <th>4</th>\n      <td>Karve Energy Inc.</td>\n      <td>1912335</td>\n      <td>New Licence</td>\n      <td>Oil battery - multiwell &lt; 0.01 mol/kmol H2S in...</td>\n      <td>00/12-04-036-08W4</td>\n      <td>50866</td>\n      <td>4036084</td>\n      <td>4036084</td>\n      <td>52.063044</td>\n      <td>-111.076440</td>\n      <td>14 August 2018</td>\n    </tr>\n    <tr>\n      <th>...</th>\n      <td>...</td>\n      <td>...</td>\n      <td>...</td>\n      <td>...</td>\n      <td>...</td>\n      <td>...</td>\n      <td>...</td>\n      <td>...</td>\n      <td>...</td>\n      <td>...</td>\n      <td>...</td>\n    </tr>\n    <tr>\n      <th>8063</th>\n      <td>Obsidian Energy Ltd.</td>\n      <td>1899691</td>\n      <td>Licence Amendment</td>\n      <td>Bitumen battery - multiwell &lt; 1 t/d sulphur inlet</td>\n      <td>00/16-13-082-18W5</td>\n      <td>49260</td>\n      <td>13082185</td>\n      <td>13082185</td>\n      <td>56.109001</td>\n      <td>-116.663502</td>\n      <td>15 November 2017</td>\n    </tr>\n    <tr>\n      <th>8064</th>\n      <td>Tamarack Acquisition Corp.</td>\n      <td>1902485</td>\n      <td>Licence Amendment</td>\n      <td>Oil battery - multiwell &lt; 0.01 mol/kmol H2S in...</td>\n      <td>02/15-20-034-08W4</td>\n      <td>4624</td>\n      <td>20034084</td>\n      <td>20034084</td>\n      <td>51.932748</td>\n      <td>-111.091861</td>\n      <td>15 November 2017</td>\n    </tr>\n    <tr>\n      <th>8065</th>\n      <td>Tourmaline Oil Corp.</td>\n      <td>1902439</td>\n      <td>Licence Amendment</td>\n      <td>Gas battery - multiwell &lt; 0.01 mol/kmol H2S in...</td>\n      <td>00/04-24-058-02W6</td>\n      <td>49237</td>\n      <td>24058026</td>\n      <td>24058026</td>\n      <td>54.028538</td>\n      <td>-118.148930</td>\n      <td>15 November 2017</td>\n    </tr>\n    <tr>\n      <th>8066</th>\n      <td>Velvet Energy Ltd.</td>\n      <td>1902405</td>\n      <td>New Licence</td>\n      <td>Gas battery - multiwell &lt; 0.01 mol/kmol H2S in...</td>\n      <td>00/13-07-049-12W5</td>\n      <td>50244</td>\n      <td>7049125</td>\n      <td>7049125</td>\n      <td>53.214185</td>\n      <td>-115.732641</td>\n      <td>15 November 2017</td>\n    </tr>\n    <tr>\n      <th>8067</th>\n      <td>Outlier Resources Ltd.</td>\n      <td>1920457</td>\n      <td>New Licence</td>\n      <td>Oil battery - multiwell &lt; 0.01 mol/kmol H2S in...</td>\n      <td>00/01-05-061-17W5</td>\n      <td>51414</td>\n      <td>5061175</td>\n      <td>5061175</td>\n      <td>54.246899</td>\n      <td>-116.501581</td>\n      <td>23 April 2019</td>\n    </tr>\n  </tbody>\n</table>\n<p>8068 rows × 11 columns</p>\n</div>"
     },
     "metadata": {},
     "execution_count": 4
    }
   ],
   "source": [
    "df"
   ]
  },
  {
   "cell_type": "code",
   "execution_count": 5,
   "metadata": {},
   "outputs": [],
   "source": [
    "df.to_csv(r'ST97-Historical.csv', index = False)"
   ]
  },
  {
   "cell_type": "code",
   "execution_count": null,
   "metadata": {},
   "outputs": [],
   "source": []
  },
  {
   "cell_type": "code",
   "execution_count": null,
   "metadata": {},
   "outputs": [],
   "source": []
  }
 ],
 "metadata": {
  "language_info": {
   "codemirror_mode": {
    "name": "ipython",
    "version": 3
   },
   "file_extension": ".py",
   "mimetype": "text/x-python",
   "name": "python",
   "nbconvert_exporter": "python",
   "pygments_lexer": "ipython3",
   "version": "3.7.6-final"
  },
  "orig_nbformat": 2,
  "kernelspec": {
   "name": "python3",
   "display_name": "Python 3"
  }
 },
 "nbformat": 4,
 "nbformat_minor": 2
}