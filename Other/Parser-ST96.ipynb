{
 "cells": [
  {
   "cell_type": "code",
   "execution_count": 68,
   "metadata": {},
   "outputs": [],
   "source": [
    "import re\n",
    "import pandas as pd\n",
    "import numpy as np\n",
    "import datetime"
   ]
  },
  {
   "cell_type": "code",
   "execution_count": 69,
   "metadata": {},
   "outputs": [],
   "source": [
    "def parser(file):\n",
    "    #Initialize list\n",
    "    lines = []\n",
    "    data1 = []\n",
    "\n",
    "    #Open File\n",
    "    with open(file, 'r') as file:\n",
    "        for line in file:\n",
    "            lines.append(line.rstrip('\\n'))\n",
    "\n",
    "    #Extract Date\n",
    "    Date = (re.split('[\\s]{4,}', lines[1].strip()))\n",
    "    Date = Date[0]\n",
    "    Date = Date.replace('RUN DATE:  ', '')\n",
    "\n",
    "    #Extract indices to cut list\n",
    "    indices = [i for i, s in enumerate(lines) if '------' in s]\n",
    "    indicest = [i for i, s in enumerate(lines) if 'NOTE:' in s]\n",
    "\n",
    "    #Create list with only well licenses\n",
    "    df1 = lines[(indices[0]+1):(indicest[0]-1)]\n",
    "\n",
    "    #Create indexes to slice\n",
    "    df3 = []\n",
    "    for line in df1:\n",
    "        df3.extend(re.split('[\\s]{2,}', line.strip()))\n",
    "    \n",
    "    #Create list without blank items\n",
    "    df3 = [x for x in df3 if x != '']\n",
    "\n",
    "    #Create lists for all 7 elements in the table\n",
    "    df3 = [df3[x:x+7] for x in range(0, len(df3), 7)]\n",
    "\n",
    "    #Initializes the Dataframe in case the file is empty\n",
    "    columns = ['LICENCE NUMBER', 'PERMITTEE', 'SUBT CODE', 'PIPELINE FROM LOC', 'O.D. (MAX)', 'APPROVAL DATE', 'OPERATING KM', 'DATE', 'CODE']\n",
    "\n",
    "    data1 = pd.DataFrame(columns=columns)\n",
    "    \n",
    "    #Create a dataframe out of the list\n",
    "    if df3 != []:\n",
    "        data1 = pd.DataFrame(df3)\n",
    "        data1.set_axis(['LICENCE NUMBER', 'PERMITTEE', 'SUBT CODE', 'PIPELINE FROM LOC', 'O.D. (MAX)', 'APPROVAL DATE', 'OPERATING KM'], axis = 1, inplace=True)\n",
    "        data1['DATE'] = Date\n",
    "\n",
    "        subt = pd.read_csv('SUBT.csv')\n",
    "        data1 = pd.merge(data1, subt, how='left', left_on='SUBT CODE', right_on='SUBT CODE',)\n",
    "        \n",
    "    return data1"
   ]
  },
  {
   "cell_type": "code",
   "execution_count": 70,
   "metadata": {
    "tags": []
   },
   "outputs": [],
   "source": [
    "import os\n",
    "\n",
    "from pathlib import Path\n",
    "\n",
    "directory_in_str = \"/Users/jjayaro/Documents/AER CSVs/ST96\"\n",
    "\n",
    "directory = os.fsencode(directory_in_str) \n",
    "\n",
    "columns = ['LICENCE NUMBER', 'PERMITTEE', 'SUBT CODE', 'PIPELINE FROM LOC', 'O.D. (MAX)', 'APPROVAL DATE', 'OPERATING KM', 'DATE']\n",
    "\n",
    "df = pd.DataFrame(columns=columns)\n",
    "\n",
    "ext = ['.txt','.TXT']\n",
    "\n",
    "for file in os.listdir(directory): \n",
    "    filename = os.fsdecode(file) \n",
    "    if filename.endswith(tuple(ext)):\n",
    "        #print(filename)\n",
    "        data = parser(os.path.join(directory_in_str, filename))\n",
    "        data.to_csv(\"/Users/jjayaro/Documents/AER CSVs/ST96_CSV/\" + filename, index = False)\n",
    "        #df = df.append(data, ignore_index=True, sort=False)\n",
    "        continue \n",
    "    else: \n",
    "        continue"
   ]
  },
  {
   "cell_type": "code",
   "execution_count": 13,
   "metadata": {},
   "outputs": [
    {
     "output_type": "execute_result",
     "data": {
      "text/plain": [
       "     LICENCE NUMBER                           PERMITTEE SUBT CODE  \\\n",
       "0             07670  CANADIAN NATURAL RESOURCES LIMITED        SG   \n",
       "1             07671  CANADIAN NATURAL RESOURCES LIMITED        FG   \n",
       "2             09577      IMPERIAL OIL RESOURCES LIMITED        SW   \n",
       "3             10190        CANADIAN FERTILIZERS LIMITED        NG   \n",
       "4             13188          ORLEN UPSTREAM CANADA LTD.        NG   \n",
       "...             ...                                 ...       ...   \n",
       "6011          60034             NORTH 40 RESOURCES LTD.        NG   \n",
       "6012          61899        TALLAHASSEE EXPLORATION INC.        OE   \n",
       "6013          61900        TALLAHASSEE EXPLORATION INC.        SW   \n",
       "6014          61911        TALLAHASSEE EXPLORATION INC.        CO   \n",
       "6015          61938        TALLAHASSEE EXPLORATION INC.        NG   \n",
       "\n",
       "     PIPELINE FROM LOC O.D. (MAX) APPROVAL DATE OPERATING KM         DATE  \n",
       "0          28/067/05/6     323.90    2020-01-02         8.96  02 JAN 2020  \n",
       "1          05/067/05/6     114.30    2020-01-02         5.80  02 JAN 2020  \n",
       "2          05/065/03/4     323.90    2020-01-02         0.41  02 JAN 2020  \n",
       "3          14/013/06/4     323.90    2020-01-02         0.00  02 JAN 2020  \n",
       "4          13/039/09/5     219.10    2020-01-02        15.02  02 JAN 2020  \n",
       "...                ...        ...           ...          ...          ...  \n",
       "6011       05/027/17/4      88.90    2020-10-16         0.00  16 OCT 2020  \n",
       "6012       27/122/22/5      88.90    2020-10-16         0.00  16 OCT 2020  \n",
       "6013       28/122/22/5      85.60    2020-10-16         0.00  16 OCT 2020  \n",
       "6014       18/120/02/6     168.30    2020-10-16         0.00  16 OCT 2020  \n",
       "6015       05/062/06/5     323.90    2020-10-16         0.00  16 OCT 2020  \n",
       "\n",
       "[6016 rows x 8 columns]"
      ],
      "text/html": "<div>\n<style scoped>\n    .dataframe tbody tr th:only-of-type {\n        vertical-align: middle;\n    }\n\n    .dataframe tbody tr th {\n        vertical-align: top;\n    }\n\n    .dataframe thead th {\n        text-align: right;\n    }\n</style>\n<table border=\"1\" class=\"dataframe\">\n  <thead>\n    <tr style=\"text-align: right;\">\n      <th></th>\n      <th>LICENCE NUMBER</th>\n      <th>PERMITTEE</th>\n      <th>SUBT CODE</th>\n      <th>PIPELINE FROM LOC</th>\n      <th>O.D. (MAX)</th>\n      <th>APPROVAL DATE</th>\n      <th>OPERATING KM</th>\n      <th>DATE</th>\n    </tr>\n  </thead>\n  <tbody>\n    <tr>\n      <th>0</th>\n      <td>07670</td>\n      <td>CANADIAN NATURAL RESOURCES LIMITED</td>\n      <td>SG</td>\n      <td>28/067/05/6</td>\n      <td>323.90</td>\n      <td>2020-01-02</td>\n      <td>8.96</td>\n      <td>02 JAN 2020</td>\n    </tr>\n    <tr>\n      <th>1</th>\n      <td>07671</td>\n      <td>CANADIAN NATURAL RESOURCES LIMITED</td>\n      <td>FG</td>\n      <td>05/067/05/6</td>\n      <td>114.30</td>\n      <td>2020-01-02</td>\n      <td>5.80</td>\n      <td>02 JAN 2020</td>\n    </tr>\n    <tr>\n      <th>2</th>\n      <td>09577</td>\n      <td>IMPERIAL OIL RESOURCES LIMITED</td>\n      <td>SW</td>\n      <td>05/065/03/4</td>\n      <td>323.90</td>\n      <td>2020-01-02</td>\n      <td>0.41</td>\n      <td>02 JAN 2020</td>\n    </tr>\n    <tr>\n      <th>3</th>\n      <td>10190</td>\n      <td>CANADIAN FERTILIZERS LIMITED</td>\n      <td>NG</td>\n      <td>14/013/06/4</td>\n      <td>323.90</td>\n      <td>2020-01-02</td>\n      <td>0.00</td>\n      <td>02 JAN 2020</td>\n    </tr>\n    <tr>\n      <th>4</th>\n      <td>13188</td>\n      <td>ORLEN UPSTREAM CANADA LTD.</td>\n      <td>NG</td>\n      <td>13/039/09/5</td>\n      <td>219.10</td>\n      <td>2020-01-02</td>\n      <td>15.02</td>\n      <td>02 JAN 2020</td>\n    </tr>\n    <tr>\n      <th>...</th>\n      <td>...</td>\n      <td>...</td>\n      <td>...</td>\n      <td>...</td>\n      <td>...</td>\n      <td>...</td>\n      <td>...</td>\n      <td>...</td>\n    </tr>\n    <tr>\n      <th>6011</th>\n      <td>60034</td>\n      <td>NORTH 40 RESOURCES LTD.</td>\n      <td>NG</td>\n      <td>05/027/17/4</td>\n      <td>88.90</td>\n      <td>2020-10-16</td>\n      <td>0.00</td>\n      <td>16 OCT 2020</td>\n    </tr>\n    <tr>\n      <th>6012</th>\n      <td>61899</td>\n      <td>TALLAHASSEE EXPLORATION INC.</td>\n      <td>OE</td>\n      <td>27/122/22/5</td>\n      <td>88.90</td>\n      <td>2020-10-16</td>\n      <td>0.00</td>\n      <td>16 OCT 2020</td>\n    </tr>\n    <tr>\n      <th>6013</th>\n      <td>61900</td>\n      <td>TALLAHASSEE EXPLORATION INC.</td>\n      <td>SW</td>\n      <td>28/122/22/5</td>\n      <td>85.60</td>\n      <td>2020-10-16</td>\n      <td>0.00</td>\n      <td>16 OCT 2020</td>\n    </tr>\n    <tr>\n      <th>6014</th>\n      <td>61911</td>\n      <td>TALLAHASSEE EXPLORATION INC.</td>\n      <td>CO</td>\n      <td>18/120/02/6</td>\n      <td>168.30</td>\n      <td>2020-10-16</td>\n      <td>0.00</td>\n      <td>16 OCT 2020</td>\n    </tr>\n    <tr>\n      <th>6015</th>\n      <td>61938</td>\n      <td>TALLAHASSEE EXPLORATION INC.</td>\n      <td>NG</td>\n      <td>05/062/06/5</td>\n      <td>323.90</td>\n      <td>2020-10-16</td>\n      <td>0.00</td>\n      <td>16 OCT 2020</td>\n    </tr>\n  </tbody>\n</table>\n<p>6016 rows × 8 columns</p>\n</div>"
     },
     "metadata": {},
     "execution_count": 13
    }
   ],
   "source": [
    "df"
   ]
  },
  {
   "cell_type": "code",
   "execution_count": 5,
   "metadata": {},
   "outputs": [],
   "source": [
    "#Export to CSV\n",
    "df.to_csv(r'ST96.csv', index = False)"
   ]
  },
  {
   "cell_type": "code",
   "execution_count": null,
   "metadata": {},
   "outputs": [],
   "source": []
  }
 ],
 "metadata": {
  "kernelspec": {
   "display_name": "Python 3",
   "language": "python",
   "name": "python3"
  },
  "language_info": {
   "codemirror_mode": {
    "name": "ipython",
    "version": 3
   },
   "file_extension": ".py",
   "mimetype": "text/x-python",
   "name": "python",
   "nbconvert_exporter": "python",
   "pygments_lexer": "ipython3",
   "version": "3.8.3-final"
  }
 },
 "nbformat": 4,
 "nbformat_minor": 4
}